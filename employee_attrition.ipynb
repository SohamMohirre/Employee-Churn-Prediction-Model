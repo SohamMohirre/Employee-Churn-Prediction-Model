{
  "cells": [
    {
      "cell_type": "code",
      "execution_count": null,
      "id": "d30d36bc",
      "metadata": {
        "execution": {
          "iopub.execute_input": "2022-01-17T15:15:59.091971Z",
          "iopub.status.busy": "2022-01-17T15:15:59.091276Z",
          "iopub.status.idle": "2022-01-17T15:16:00.224140Z",
          "shell.execute_reply": "2022-01-17T15:16:00.223171Z",
          "shell.execute_reply.started": "2022-01-17T15:14:48.729325Z"
        },
        "id": "d30d36bc",
        "papermill": {
          "duration": 1.22649,
          "end_time": "2022-01-17T15:16:00.224335",
          "exception": false,
          "start_time": "2022-01-17T15:15:58.997845",
          "status": "completed"
        },
        "tags": [],
        "colab": {
          "base_uri": "https://localhost:8080/"
        },
        "outputId": "d285188f-0e82-4e12-f1a7-31a5629b5ff8"
      },
      "outputs": [
        {
          "output_type": "stream",
          "name": "stdout",
          "text": [
            "Mounted at /content/drive\n"
          ]
        }
      ],
      "source": [
        "from google.colab import drive\n",
        "drive.mount('/content/drive')"
      ]
    },
    {
      "cell_type": "code",
      "source": [
        "import numpy as np \n",
        "import pandas as pd \n",
        "import warnings\n",
        "import seaborn as sns\n",
        "import matplotlib.pyplot as plt\n",
        "%matplotlib inline "
      ],
      "metadata": {
        "id": "cNNg8Wa4fJtF"
      },
      "id": "cNNg8Wa4fJtF",
      "execution_count": null,
      "outputs": []
    },
    {
      "cell_type": "code",
      "execution_count": null,
      "id": "ab884f31",
      "metadata": {
        "execution": {
          "iopub.execute_input": "2022-01-17T15:16:00.556027Z",
          "iopub.status.busy": "2022-01-17T15:16:00.555325Z",
          "iopub.status.idle": "2022-01-17T15:16:00.835636Z",
          "shell.execute_reply": "2022-01-17T15:16:00.836256Z",
          "shell.execute_reply.started": "2022-01-17T15:14:48.738434Z"
        },
        "id": "ab884f31",
        "outputId": "d91b948b-312e-4c73-fc4e-0c7291299f1e",
        "papermill": {
          "duration": 0.36699,
          "end_time": "2022-01-17T15:16:00.836460",
          "exception": false,
          "start_time": "2022-01-17T15:16:00.469470",
          "status": "completed"
        },
        "tags": [],
        "colab": {
          "base_uri": "https://localhost:8080/",
          "height": 270
        }
      },
      "outputs": [
        {
          "output_type": "execute_result",
          "data": {
            "text/plain": [
              "   EmployeeID   recorddate_key birthdate_key orighiredate_key  \\\n",
              "0        1318  12/31/2006 0:00      1/3/1954        8/28/1989   \n",
              "1        1318  12/31/2007 0:00      1/3/1954        8/28/1989   \n",
              "2        1318  12/31/2008 0:00      1/3/1954        8/28/1989   \n",
              "3        1318  12/31/2009 0:00      1/3/1954        8/28/1989   \n",
              "4        1318  12/31/2010 0:00      1/3/1954        8/28/1989   \n",
              "\n",
              "  terminationdate_key  age  length_of_service  city_name department_name  \\\n",
              "0            1/1/1900   52                 17  Vancouver       Executive   \n",
              "1            1/1/1900   53                 18  Vancouver       Executive   \n",
              "2            1/1/1900   54                 19  Vancouver       Executive   \n",
              "3            1/1/1900   55                 20  Vancouver       Executive   \n",
              "4            1/1/1900   56                 21  Vancouver       Executive   \n",
              "\n",
              "  job_title  store_name gender_short gender_full termreason_desc  \\\n",
              "0       CEO          35            M        Male  Not Applicable   \n",
              "1       CEO          35            M        Male  Not Applicable   \n",
              "2       CEO          35            M        Male  Not Applicable   \n",
              "3       CEO          35            M        Male  Not Applicable   \n",
              "4       CEO          35            M        Male  Not Applicable   \n",
              "\n",
              "    termtype_desc  STATUS_YEAR  STATUS BUSINESS_UNIT  \n",
              "0  Not Applicable         2006  ACTIVE    HEADOFFICE  \n",
              "1  Not Applicable         2007  ACTIVE    HEADOFFICE  \n",
              "2  Not Applicable         2008  ACTIVE    HEADOFFICE  \n",
              "3  Not Applicable         2009  ACTIVE    HEADOFFICE  \n",
              "4  Not Applicable         2010  ACTIVE    HEADOFFICE  "
            ],
            "text/html": [
              "\n",
              "  <div id=\"df-df74588f-04c5-406c-b04c-e32378141674\">\n",
              "    <div class=\"colab-df-container\">\n",
              "      <div>\n",
              "<style scoped>\n",
              "    .dataframe tbody tr th:only-of-type {\n",
              "        vertical-align: middle;\n",
              "    }\n",
              "\n",
              "    .dataframe tbody tr th {\n",
              "        vertical-align: top;\n",
              "    }\n",
              "\n",
              "    .dataframe thead th {\n",
              "        text-align: right;\n",
              "    }\n",
              "</style>\n",
              "<table border=\"1\" class=\"dataframe\">\n",
              "  <thead>\n",
              "    <tr style=\"text-align: right;\">\n",
              "      <th></th>\n",
              "      <th>EmployeeID</th>\n",
              "      <th>recorddate_key</th>\n",
              "      <th>birthdate_key</th>\n",
              "      <th>orighiredate_key</th>\n",
              "      <th>terminationdate_key</th>\n",
              "      <th>age</th>\n",
              "      <th>length_of_service</th>\n",
              "      <th>city_name</th>\n",
              "      <th>department_name</th>\n",
              "      <th>job_title</th>\n",
              "      <th>store_name</th>\n",
              "      <th>gender_short</th>\n",
              "      <th>gender_full</th>\n",
              "      <th>termreason_desc</th>\n",
              "      <th>termtype_desc</th>\n",
              "      <th>STATUS_YEAR</th>\n",
              "      <th>STATUS</th>\n",
              "      <th>BUSINESS_UNIT</th>\n",
              "    </tr>\n",
              "  </thead>\n",
              "  <tbody>\n",
              "    <tr>\n",
              "      <th>0</th>\n",
              "      <td>1318</td>\n",
              "      <td>12/31/2006 0:00</td>\n",
              "      <td>1/3/1954</td>\n",
              "      <td>8/28/1989</td>\n",
              "      <td>1/1/1900</td>\n",
              "      <td>52</td>\n",
              "      <td>17</td>\n",
              "      <td>Vancouver</td>\n",
              "      <td>Executive</td>\n",
              "      <td>CEO</td>\n",
              "      <td>35</td>\n",
              "      <td>M</td>\n",
              "      <td>Male</td>\n",
              "      <td>Not Applicable</td>\n",
              "      <td>Not Applicable</td>\n",
              "      <td>2006</td>\n",
              "      <td>ACTIVE</td>\n",
              "      <td>HEADOFFICE</td>\n",
              "    </tr>\n",
              "    <tr>\n",
              "      <th>1</th>\n",
              "      <td>1318</td>\n",
              "      <td>12/31/2007 0:00</td>\n",
              "      <td>1/3/1954</td>\n",
              "      <td>8/28/1989</td>\n",
              "      <td>1/1/1900</td>\n",
              "      <td>53</td>\n",
              "      <td>18</td>\n",
              "      <td>Vancouver</td>\n",
              "      <td>Executive</td>\n",
              "      <td>CEO</td>\n",
              "      <td>35</td>\n",
              "      <td>M</td>\n",
              "      <td>Male</td>\n",
              "      <td>Not Applicable</td>\n",
              "      <td>Not Applicable</td>\n",
              "      <td>2007</td>\n",
              "      <td>ACTIVE</td>\n",
              "      <td>HEADOFFICE</td>\n",
              "    </tr>\n",
              "    <tr>\n",
              "      <th>2</th>\n",
              "      <td>1318</td>\n",
              "      <td>12/31/2008 0:00</td>\n",
              "      <td>1/3/1954</td>\n",
              "      <td>8/28/1989</td>\n",
              "      <td>1/1/1900</td>\n",
              "      <td>54</td>\n",
              "      <td>19</td>\n",
              "      <td>Vancouver</td>\n",
              "      <td>Executive</td>\n",
              "      <td>CEO</td>\n",
              "      <td>35</td>\n",
              "      <td>M</td>\n",
              "      <td>Male</td>\n",
              "      <td>Not Applicable</td>\n",
              "      <td>Not Applicable</td>\n",
              "      <td>2008</td>\n",
              "      <td>ACTIVE</td>\n",
              "      <td>HEADOFFICE</td>\n",
              "    </tr>\n",
              "    <tr>\n",
              "      <th>3</th>\n",
              "      <td>1318</td>\n",
              "      <td>12/31/2009 0:00</td>\n",
              "      <td>1/3/1954</td>\n",
              "      <td>8/28/1989</td>\n",
              "      <td>1/1/1900</td>\n",
              "      <td>55</td>\n",
              "      <td>20</td>\n",
              "      <td>Vancouver</td>\n",
              "      <td>Executive</td>\n",
              "      <td>CEO</td>\n",
              "      <td>35</td>\n",
              "      <td>M</td>\n",
              "      <td>Male</td>\n",
              "      <td>Not Applicable</td>\n",
              "      <td>Not Applicable</td>\n",
              "      <td>2009</td>\n",
              "      <td>ACTIVE</td>\n",
              "      <td>HEADOFFICE</td>\n",
              "    </tr>\n",
              "    <tr>\n",
              "      <th>4</th>\n",
              "      <td>1318</td>\n",
              "      <td>12/31/2010 0:00</td>\n",
              "      <td>1/3/1954</td>\n",
              "      <td>8/28/1989</td>\n",
              "      <td>1/1/1900</td>\n",
              "      <td>56</td>\n",
              "      <td>21</td>\n",
              "      <td>Vancouver</td>\n",
              "      <td>Executive</td>\n",
              "      <td>CEO</td>\n",
              "      <td>35</td>\n",
              "      <td>M</td>\n",
              "      <td>Male</td>\n",
              "      <td>Not Applicable</td>\n",
              "      <td>Not Applicable</td>\n",
              "      <td>2010</td>\n",
              "      <td>ACTIVE</td>\n",
              "      <td>HEADOFFICE</td>\n",
              "    </tr>\n",
              "  </tbody>\n",
              "</table>\n",
              "</div>\n",
              "      <button class=\"colab-df-convert\" onclick=\"convertToInteractive('df-df74588f-04c5-406c-b04c-e32378141674')\"\n",
              "              title=\"Convert this dataframe to an interactive table.\"\n",
              "              style=\"display:none;\">\n",
              "        \n",
              "  <svg xmlns=\"http://www.w3.org/2000/svg\" height=\"24px\"viewBox=\"0 0 24 24\"\n",
              "       width=\"24px\">\n",
              "    <path d=\"M0 0h24v24H0V0z\" fill=\"none\"/>\n",
              "    <path d=\"M18.56 5.44l.94 2.06.94-2.06 2.06-.94-2.06-.94-.94-2.06-.94 2.06-2.06.94zm-11 1L8.5 8.5l.94-2.06 2.06-.94-2.06-.94L8.5 2.5l-.94 2.06-2.06.94zm10 10l.94 2.06.94-2.06 2.06-.94-2.06-.94-.94-2.06-.94 2.06-2.06.94z\"/><path d=\"M17.41 7.96l-1.37-1.37c-.4-.4-.92-.59-1.43-.59-.52 0-1.04.2-1.43.59L10.3 9.45l-7.72 7.72c-.78.78-.78 2.05 0 2.83L4 21.41c.39.39.9.59 1.41.59.51 0 1.02-.2 1.41-.59l7.78-7.78 2.81-2.81c.8-.78.8-2.07 0-2.86zM5.41 20L4 18.59l7.72-7.72 1.47 1.35L5.41 20z\"/>\n",
              "  </svg>\n",
              "      </button>\n",
              "      \n",
              "  <style>\n",
              "    .colab-df-container {\n",
              "      display:flex;\n",
              "      flex-wrap:wrap;\n",
              "      gap: 12px;\n",
              "    }\n",
              "\n",
              "    .colab-df-convert {\n",
              "      background-color: #E8F0FE;\n",
              "      border: none;\n",
              "      border-radius: 50%;\n",
              "      cursor: pointer;\n",
              "      display: none;\n",
              "      fill: #1967D2;\n",
              "      height: 32px;\n",
              "      padding: 0 0 0 0;\n",
              "      width: 32px;\n",
              "    }\n",
              "\n",
              "    .colab-df-convert:hover {\n",
              "      background-color: #E2EBFA;\n",
              "      box-shadow: 0px 1px 2px rgba(60, 64, 67, 0.3), 0px 1px 3px 1px rgba(60, 64, 67, 0.15);\n",
              "      fill: #174EA6;\n",
              "    }\n",
              "\n",
              "    [theme=dark] .colab-df-convert {\n",
              "      background-color: #3B4455;\n",
              "      fill: #D2E3FC;\n",
              "    }\n",
              "\n",
              "    [theme=dark] .colab-df-convert:hover {\n",
              "      background-color: #434B5C;\n",
              "      box-shadow: 0px 1px 3px 1px rgba(0, 0, 0, 0.15);\n",
              "      filter: drop-shadow(0px 1px 2px rgba(0, 0, 0, 0.3));\n",
              "      fill: #FFFFFF;\n",
              "    }\n",
              "  </style>\n",
              "\n",
              "      <script>\n",
              "        const buttonEl =\n",
              "          document.querySelector('#df-df74588f-04c5-406c-b04c-e32378141674 button.colab-df-convert');\n",
              "        buttonEl.style.display =\n",
              "          google.colab.kernel.accessAllowed ? 'block' : 'none';\n",
              "\n",
              "        async function convertToInteractive(key) {\n",
              "          const element = document.querySelector('#df-df74588f-04c5-406c-b04c-e32378141674');\n",
              "          const dataTable =\n",
              "            await google.colab.kernel.invokeFunction('convertToInteractive',\n",
              "                                                     [key], {});\n",
              "          if (!dataTable) return;\n",
              "\n",
              "          const docLinkHtml = 'Like what you see? Visit the ' +\n",
              "            '<a target=\"_blank\" href=https://colab.research.google.com/notebooks/data_table.ipynb>data table notebook</a>'\n",
              "            + ' to learn more about interactive tables.';\n",
              "          element.innerHTML = '';\n",
              "          dataTable['output_type'] = 'display_data';\n",
              "          await google.colab.output.renderOutput(dataTable, element);\n",
              "          const docLink = document.createElement('div');\n",
              "          docLink.innerHTML = docLinkHtml;\n",
              "          element.appendChild(docLink);\n",
              "        }\n",
              "      </script>\n",
              "    </div>\n",
              "  </div>\n",
              "  "
            ]
          },
          "metadata": {},
          "execution_count": 4
        }
      ],
      "source": [
        "data = pd.read_csv(\"/content/drive/My Drive/Project/Data/MFG10YearTerminationData.csv\")\n",
        "data.head()"
      ]
    },
    {
      "cell_type": "code",
      "execution_count": null,
      "id": "ae05eb65",
      "metadata": {
        "execution": {
          "iopub.execute_input": "2022-01-17T15:16:01.010403Z",
          "iopub.status.busy": "2022-01-17T15:16:01.009592Z",
          "iopub.status.idle": "2022-01-17T15:16:01.013542Z",
          "shell.execute_reply": "2022-01-17T15:16:01.013005Z",
          "shell.execute_reply.started": "2022-01-17T15:14:48.929172Z"
        },
        "id": "ae05eb65",
        "outputId": "78d660ab-c2d4-4638-f8f6-0a7e2b718d53",
        "papermill": {
          "duration": 0.093908,
          "end_time": "2022-01-17T15:16:01.013708",
          "exception": false,
          "start_time": "2022-01-17T15:16:00.919800",
          "status": "completed"
        },
        "tags": [],
        "colab": {
          "base_uri": "https://localhost:8080/"
        }
      },
      "outputs": [
        {
          "output_type": "execute_result",
          "data": {
            "text/plain": [
              "(49653, 18)"
            ]
          },
          "metadata": {},
          "execution_count": 5
        }
      ],
      "source": [
        "data.shape"
      ]
    },
    {
      "cell_type": "code",
      "execution_count": null,
      "id": "b0929cde",
      "metadata": {
        "execution": {
          "iopub.execute_input": "2022-01-17T15:16:01.584507Z",
          "iopub.status.busy": "2022-01-17T15:16:01.583823Z",
          "iopub.status.idle": "2022-01-17T15:16:01.592785Z",
          "shell.execute_reply": "2022-01-17T15:16:01.592193Z",
          "shell.execute_reply.started": "2022-01-17T15:14:48.937163Z"
        },
        "id": "b0929cde",
        "outputId": "d9745be7-bb5c-4615-d803-997530bf3da8",
        "papermill": {
          "duration": 0.166478,
          "end_time": "2022-01-17T15:16:01.592957",
          "exception": false,
          "start_time": "2022-01-17T15:16:01.426479",
          "status": "completed"
        },
        "tags": [],
        "colab": {
          "base_uri": "https://localhost:8080/"
        }
      },
      "outputs": [
        {
          "output_type": "execute_result",
          "data": {
            "text/plain": [
              "EmployeeID             0\n",
              "recorddate_key         0\n",
              "birthdate_key          0\n",
              "orighiredate_key       0\n",
              "terminationdate_key    0\n",
              "age                    0\n",
              "length_of_service      0\n",
              "city_name              0\n",
              "department_name        0\n",
              "job_title              0\n",
              "store_name             0\n",
              "gender_short           0\n",
              "gender_full            0\n",
              "termreason_desc        0\n",
              "termtype_desc          0\n",
              "STATUS_YEAR            0\n",
              "STATUS                 0\n",
              "BUSINESS_UNIT          0\n",
              "dtype: int64"
            ]
          },
          "metadata": {},
          "execution_count": 8
        }
      ],
      "source": [
        "#Null Columns\n",
        "data.isnull().sum()"
      ]
    },
    {
      "cell_type": "code",
      "execution_count": null,
      "id": "7c12f96d",
      "metadata": {
        "execution": {
          "iopub.execute_input": "2022-01-17T15:16:01.999140Z",
          "iopub.status.busy": "2022-01-17T15:16:01.998432Z",
          "iopub.status.idle": "2022-01-17T15:16:02.023141Z",
          "shell.execute_reply": "2022-01-17T15:16:02.023859Z",
          "shell.execute_reply.started": "2022-01-17T15:14:49.024848Z"
        },
        "id": "7c12f96d",
        "outputId": "ad947bd3-ee00-40c0-916a-0965021c5c55",
        "papermill": {
          "duration": 0.183496,
          "end_time": "2022-01-17T15:16:02.024108",
          "exception": false,
          "start_time": "2022-01-17T15:16:01.840612",
          "status": "completed"
        },
        "tags": [],
        "colab": {
          "base_uri": "https://localhost:8080/"
        }
      },
      "outputs": [
        {
          "output_type": "stream",
          "name": "stdout",
          "text": [
            "<class 'pandas.core.frame.DataFrame'>\n",
            "RangeIndex: 49653 entries, 0 to 49652\n",
            "Data columns (total 18 columns):\n",
            " #   Column               Non-Null Count  Dtype \n",
            "---  ------               --------------  ----- \n",
            " 0   EmployeeID           49653 non-null  int64 \n",
            " 1   recorddate_key       49653 non-null  object\n",
            " 2   birthdate_key        49653 non-null  object\n",
            " 3   orighiredate_key     49653 non-null  object\n",
            " 4   terminationdate_key  49653 non-null  object\n",
            " 5   age                  49653 non-null  int64 \n",
            " 6   length_of_service    49653 non-null  int64 \n",
            " 7   city_name            49653 non-null  object\n",
            " 8   department_name      49653 non-null  object\n",
            " 9   job_title            49653 non-null  object\n",
            " 10  store_name           49653 non-null  int64 \n",
            " 11  gender_short         49653 non-null  object\n",
            " 12  gender_full          49653 non-null  object\n",
            " 13  termreason_desc      49653 non-null  object\n",
            " 14  termtype_desc        49653 non-null  object\n",
            " 15  STATUS_YEAR          49653 non-null  int64 \n",
            " 16  STATUS               49653 non-null  object\n",
            " 17  BUSINESS_UNIT        49653 non-null  object\n",
            "dtypes: int64(5), object(13)\n",
            "memory usage: 6.8+ MB\n"
          ]
        }
      ],
      "source": [
        "#Column Datatype and Null Info\n",
        "data.info()"
      ]
    },
    {
      "cell_type": "code",
      "execution_count": null,
      "id": "b1fc6e11",
      "metadata": {
        "execution": {
          "iopub.execute_input": "2022-01-17T15:16:02.357323Z",
          "iopub.status.busy": "2022-01-17T15:16:02.356716Z",
          "iopub.status.idle": "2022-01-17T15:16:02.465616Z",
          "shell.execute_reply": "2022-01-17T15:16:02.465095Z",
          "shell.execute_reply.started": "2022-01-17T15:14:49.112287Z"
        },
        "id": "b1fc6e11",
        "outputId": "9c224920-e681-4366-c2b7-8e7c030fb0cb",
        "papermill": {
          "duration": 0.193861,
          "end_time": "2022-01-17T15:16:02.465772",
          "exception": false,
          "start_time": "2022-01-17T15:16:02.271911",
          "status": "completed"
        },
        "tags": [],
        "colab": {
          "base_uri": "https://localhost:8080/",
          "height": 539
        }
      },
      "outputs": [
        {
          "output_type": "execute_result",
          "data": {
            "text/plain": [
              "       EmployeeID   recorddate_key birthdate_key orighiredate_key  \\\n",
              "0            1318  12/31/2006 0:00      1/3/1954        8/28/1989   \n",
              "1            1318  12/31/2007 0:00      1/3/1954        8/28/1989   \n",
              "2            1318  12/31/2008 0:00      1/3/1954        8/28/1989   \n",
              "3            1318  12/31/2009 0:00      1/3/1954        8/28/1989   \n",
              "4            1318  12/31/2010 0:00      1/3/1954        8/28/1989   \n",
              "...           ...              ...           ...              ...   \n",
              "49648        8258   12/1/2015 0:00     5/28/1994        8/19/2013   \n",
              "49649        8264    8/1/2013 0:00     6/13/1994        8/27/2013   \n",
              "49650        8279   12/1/2015 0:00     7/18/1994        9/15/2013   \n",
              "49651        8296   12/1/2013 0:00      9/2/1994        10/9/2013   \n",
              "49652        8321   12/1/2014 0:00    11/28/1994       11/24/2013   \n",
              "\n",
              "      terminationdate_key  age  length_of_service    city_name  \\\n",
              "0                1/1/1900   52                 17    Vancouver   \n",
              "1                1/1/1900   53                 18    Vancouver   \n",
              "2                1/1/1900   54                 19    Vancouver   \n",
              "3                1/1/1900   55                 20    Vancouver   \n",
              "4                1/1/1900   56                 21    Vancouver   \n",
              "...                   ...  ...                ...          ...   \n",
              "49648          12/30/2015   21                  2    Valemount   \n",
              "49649           8/30/2013   19                  0    Vancouver   \n",
              "49650          12/30/2015   21                  2   White Rock   \n",
              "49651          12/31/2013   19                  0      Kelowna   \n",
              "49652          12/30/2014   20                  1  Grand Forks   \n",
              "\n",
              "        department_name     job_title  store_name gender_short gender_full  \\\n",
              "0             Executive           CEO          35            M        Male   \n",
              "1             Executive           CEO          35            M        Male   \n",
              "2             Executive           CEO          35            M        Male   \n",
              "3             Executive           CEO          35            M        Male   \n",
              "4             Executive           CEO          35            M        Male   \n",
              "...                 ...           ...         ...          ...         ...   \n",
              "49648             Dairy  Dairy Person          34            M        Male   \n",
              "49649  Customer Service       Cashier          44            F      Female   \n",
              "49650  Customer Service       Cashier          39            F      Female   \n",
              "49651  Customer Service       Cashier          16            F      Female   \n",
              "49652  Customer Service       Cashier          13            F      Female   \n",
              "\n",
              "      termreason_desc   termtype_desc  STATUS_YEAR      STATUS BUSINESS_UNIT  \n",
              "0      Not Applicable  Not Applicable         2006      ACTIVE    HEADOFFICE  \n",
              "1      Not Applicable  Not Applicable         2007      ACTIVE    HEADOFFICE  \n",
              "2      Not Applicable  Not Applicable         2008      ACTIVE    HEADOFFICE  \n",
              "3      Not Applicable  Not Applicable         2009      ACTIVE    HEADOFFICE  \n",
              "4      Not Applicable  Not Applicable         2010      ACTIVE    HEADOFFICE  \n",
              "...               ...             ...          ...         ...           ...  \n",
              "49648          Layoff     Involuntary         2015  TERMINATED        STORES  \n",
              "49649      Resignaton       Voluntary         2013  TERMINATED        STORES  \n",
              "49650          Layoff     Involuntary         2015  TERMINATED        STORES  \n",
              "49651      Resignaton       Voluntary         2013  TERMINATED        STORES  \n",
              "49652          Layoff     Involuntary         2014  TERMINATED        STORES  \n",
              "\n",
              "[49653 rows x 18 columns]"
            ],
            "text/html": [
              "\n",
              "  <div id=\"df-5c814ea4-3fb8-4e0b-bc25-d6eab433eb71\">\n",
              "    <div class=\"colab-df-container\">\n",
              "      <div>\n",
              "<style scoped>\n",
              "    .dataframe tbody tr th:only-of-type {\n",
              "        vertical-align: middle;\n",
              "    }\n",
              "\n",
              "    .dataframe tbody tr th {\n",
              "        vertical-align: top;\n",
              "    }\n",
              "\n",
              "    .dataframe thead th {\n",
              "        text-align: right;\n",
              "    }\n",
              "</style>\n",
              "<table border=\"1\" class=\"dataframe\">\n",
              "  <thead>\n",
              "    <tr style=\"text-align: right;\">\n",
              "      <th></th>\n",
              "      <th>EmployeeID</th>\n",
              "      <th>recorddate_key</th>\n",
              "      <th>birthdate_key</th>\n",
              "      <th>orighiredate_key</th>\n",
              "      <th>terminationdate_key</th>\n",
              "      <th>age</th>\n",
              "      <th>length_of_service</th>\n",
              "      <th>city_name</th>\n",
              "      <th>department_name</th>\n",
              "      <th>job_title</th>\n",
              "      <th>store_name</th>\n",
              "      <th>gender_short</th>\n",
              "      <th>gender_full</th>\n",
              "      <th>termreason_desc</th>\n",
              "      <th>termtype_desc</th>\n",
              "      <th>STATUS_YEAR</th>\n",
              "      <th>STATUS</th>\n",
              "      <th>BUSINESS_UNIT</th>\n",
              "    </tr>\n",
              "  </thead>\n",
              "  <tbody>\n",
              "    <tr>\n",
              "      <th>0</th>\n",
              "      <td>1318</td>\n",
              "      <td>12/31/2006 0:00</td>\n",
              "      <td>1/3/1954</td>\n",
              "      <td>8/28/1989</td>\n",
              "      <td>1/1/1900</td>\n",
              "      <td>52</td>\n",
              "      <td>17</td>\n",
              "      <td>Vancouver</td>\n",
              "      <td>Executive</td>\n",
              "      <td>CEO</td>\n",
              "      <td>35</td>\n",
              "      <td>M</td>\n",
              "      <td>Male</td>\n",
              "      <td>Not Applicable</td>\n",
              "      <td>Not Applicable</td>\n",
              "      <td>2006</td>\n",
              "      <td>ACTIVE</td>\n",
              "      <td>HEADOFFICE</td>\n",
              "    </tr>\n",
              "    <tr>\n",
              "      <th>1</th>\n",
              "      <td>1318</td>\n",
              "      <td>12/31/2007 0:00</td>\n",
              "      <td>1/3/1954</td>\n",
              "      <td>8/28/1989</td>\n",
              "      <td>1/1/1900</td>\n",
              "      <td>53</td>\n",
              "      <td>18</td>\n",
              "      <td>Vancouver</td>\n",
              "      <td>Executive</td>\n",
              "      <td>CEO</td>\n",
              "      <td>35</td>\n",
              "      <td>M</td>\n",
              "      <td>Male</td>\n",
              "      <td>Not Applicable</td>\n",
              "      <td>Not Applicable</td>\n",
              "      <td>2007</td>\n",
              "      <td>ACTIVE</td>\n",
              "      <td>HEADOFFICE</td>\n",
              "    </tr>\n",
              "    <tr>\n",
              "      <th>2</th>\n",
              "      <td>1318</td>\n",
              "      <td>12/31/2008 0:00</td>\n",
              "      <td>1/3/1954</td>\n",
              "      <td>8/28/1989</td>\n",
              "      <td>1/1/1900</td>\n",
              "      <td>54</td>\n",
              "      <td>19</td>\n",
              "      <td>Vancouver</td>\n",
              "      <td>Executive</td>\n",
              "      <td>CEO</td>\n",
              "      <td>35</td>\n",
              "      <td>M</td>\n",
              "      <td>Male</td>\n",
              "      <td>Not Applicable</td>\n",
              "      <td>Not Applicable</td>\n",
              "      <td>2008</td>\n",
              "      <td>ACTIVE</td>\n",
              "      <td>HEADOFFICE</td>\n",
              "    </tr>\n",
              "    <tr>\n",
              "      <th>3</th>\n",
              "      <td>1318</td>\n",
              "      <td>12/31/2009 0:00</td>\n",
              "      <td>1/3/1954</td>\n",
              "      <td>8/28/1989</td>\n",
              "      <td>1/1/1900</td>\n",
              "      <td>55</td>\n",
              "      <td>20</td>\n",
              "      <td>Vancouver</td>\n",
              "      <td>Executive</td>\n",
              "      <td>CEO</td>\n",
              "      <td>35</td>\n",
              "      <td>M</td>\n",
              "      <td>Male</td>\n",
              "      <td>Not Applicable</td>\n",
              "      <td>Not Applicable</td>\n",
              "      <td>2009</td>\n",
              "      <td>ACTIVE</td>\n",
              "      <td>HEADOFFICE</td>\n",
              "    </tr>\n",
              "    <tr>\n",
              "      <th>4</th>\n",
              "      <td>1318</td>\n",
              "      <td>12/31/2010 0:00</td>\n",
              "      <td>1/3/1954</td>\n",
              "      <td>8/28/1989</td>\n",
              "      <td>1/1/1900</td>\n",
              "      <td>56</td>\n",
              "      <td>21</td>\n",
              "      <td>Vancouver</td>\n",
              "      <td>Executive</td>\n",
              "      <td>CEO</td>\n",
              "      <td>35</td>\n",
              "      <td>M</td>\n",
              "      <td>Male</td>\n",
              "      <td>Not Applicable</td>\n",
              "      <td>Not Applicable</td>\n",
              "      <td>2010</td>\n",
              "      <td>ACTIVE</td>\n",
              "      <td>HEADOFFICE</td>\n",
              "    </tr>\n",
              "    <tr>\n",
              "      <th>...</th>\n",
              "      <td>...</td>\n",
              "      <td>...</td>\n",
              "      <td>...</td>\n",
              "      <td>...</td>\n",
              "      <td>...</td>\n",
              "      <td>...</td>\n",
              "      <td>...</td>\n",
              "      <td>...</td>\n",
              "      <td>...</td>\n",
              "      <td>...</td>\n",
              "      <td>...</td>\n",
              "      <td>...</td>\n",
              "      <td>...</td>\n",
              "      <td>...</td>\n",
              "      <td>...</td>\n",
              "      <td>...</td>\n",
              "      <td>...</td>\n",
              "      <td>...</td>\n",
              "    </tr>\n",
              "    <tr>\n",
              "      <th>49648</th>\n",
              "      <td>8258</td>\n",
              "      <td>12/1/2015 0:00</td>\n",
              "      <td>5/28/1994</td>\n",
              "      <td>8/19/2013</td>\n",
              "      <td>12/30/2015</td>\n",
              "      <td>21</td>\n",
              "      <td>2</td>\n",
              "      <td>Valemount</td>\n",
              "      <td>Dairy</td>\n",
              "      <td>Dairy Person</td>\n",
              "      <td>34</td>\n",
              "      <td>M</td>\n",
              "      <td>Male</td>\n",
              "      <td>Layoff</td>\n",
              "      <td>Involuntary</td>\n",
              "      <td>2015</td>\n",
              "      <td>TERMINATED</td>\n",
              "      <td>STORES</td>\n",
              "    </tr>\n",
              "    <tr>\n",
              "      <th>49649</th>\n",
              "      <td>8264</td>\n",
              "      <td>8/1/2013 0:00</td>\n",
              "      <td>6/13/1994</td>\n",
              "      <td>8/27/2013</td>\n",
              "      <td>8/30/2013</td>\n",
              "      <td>19</td>\n",
              "      <td>0</td>\n",
              "      <td>Vancouver</td>\n",
              "      <td>Customer Service</td>\n",
              "      <td>Cashier</td>\n",
              "      <td>44</td>\n",
              "      <td>F</td>\n",
              "      <td>Female</td>\n",
              "      <td>Resignaton</td>\n",
              "      <td>Voluntary</td>\n",
              "      <td>2013</td>\n",
              "      <td>TERMINATED</td>\n",
              "      <td>STORES</td>\n",
              "    </tr>\n",
              "    <tr>\n",
              "      <th>49650</th>\n",
              "      <td>8279</td>\n",
              "      <td>12/1/2015 0:00</td>\n",
              "      <td>7/18/1994</td>\n",
              "      <td>9/15/2013</td>\n",
              "      <td>12/30/2015</td>\n",
              "      <td>21</td>\n",
              "      <td>2</td>\n",
              "      <td>White Rock</td>\n",
              "      <td>Customer Service</td>\n",
              "      <td>Cashier</td>\n",
              "      <td>39</td>\n",
              "      <td>F</td>\n",
              "      <td>Female</td>\n",
              "      <td>Layoff</td>\n",
              "      <td>Involuntary</td>\n",
              "      <td>2015</td>\n",
              "      <td>TERMINATED</td>\n",
              "      <td>STORES</td>\n",
              "    </tr>\n",
              "    <tr>\n",
              "      <th>49651</th>\n",
              "      <td>8296</td>\n",
              "      <td>12/1/2013 0:00</td>\n",
              "      <td>9/2/1994</td>\n",
              "      <td>10/9/2013</td>\n",
              "      <td>12/31/2013</td>\n",
              "      <td>19</td>\n",
              "      <td>0</td>\n",
              "      <td>Kelowna</td>\n",
              "      <td>Customer Service</td>\n",
              "      <td>Cashier</td>\n",
              "      <td>16</td>\n",
              "      <td>F</td>\n",
              "      <td>Female</td>\n",
              "      <td>Resignaton</td>\n",
              "      <td>Voluntary</td>\n",
              "      <td>2013</td>\n",
              "      <td>TERMINATED</td>\n",
              "      <td>STORES</td>\n",
              "    </tr>\n",
              "    <tr>\n",
              "      <th>49652</th>\n",
              "      <td>8321</td>\n",
              "      <td>12/1/2014 0:00</td>\n",
              "      <td>11/28/1994</td>\n",
              "      <td>11/24/2013</td>\n",
              "      <td>12/30/2014</td>\n",
              "      <td>20</td>\n",
              "      <td>1</td>\n",
              "      <td>Grand Forks</td>\n",
              "      <td>Customer Service</td>\n",
              "      <td>Cashier</td>\n",
              "      <td>13</td>\n",
              "      <td>F</td>\n",
              "      <td>Female</td>\n",
              "      <td>Layoff</td>\n",
              "      <td>Involuntary</td>\n",
              "      <td>2014</td>\n",
              "      <td>TERMINATED</td>\n",
              "      <td>STORES</td>\n",
              "    </tr>\n",
              "  </tbody>\n",
              "</table>\n",
              "<p>49653 rows × 18 columns</p>\n",
              "</div>\n",
              "      <button class=\"colab-df-convert\" onclick=\"convertToInteractive('df-5c814ea4-3fb8-4e0b-bc25-d6eab433eb71')\"\n",
              "              title=\"Convert this dataframe to an interactive table.\"\n",
              "              style=\"display:none;\">\n",
              "        \n",
              "  <svg xmlns=\"http://www.w3.org/2000/svg\" height=\"24px\"viewBox=\"0 0 24 24\"\n",
              "       width=\"24px\">\n",
              "    <path d=\"M0 0h24v24H0V0z\" fill=\"none\"/>\n",
              "    <path d=\"M18.56 5.44l.94 2.06.94-2.06 2.06-.94-2.06-.94-.94-2.06-.94 2.06-2.06.94zm-11 1L8.5 8.5l.94-2.06 2.06-.94-2.06-.94L8.5 2.5l-.94 2.06-2.06.94zm10 10l.94 2.06.94-2.06 2.06-.94-2.06-.94-.94-2.06-.94 2.06-2.06.94z\"/><path d=\"M17.41 7.96l-1.37-1.37c-.4-.4-.92-.59-1.43-.59-.52 0-1.04.2-1.43.59L10.3 9.45l-7.72 7.72c-.78.78-.78 2.05 0 2.83L4 21.41c.39.39.9.59 1.41.59.51 0 1.02-.2 1.41-.59l7.78-7.78 2.81-2.81c.8-.78.8-2.07 0-2.86zM5.41 20L4 18.59l7.72-7.72 1.47 1.35L5.41 20z\"/>\n",
              "  </svg>\n",
              "      </button>\n",
              "      \n",
              "  <style>\n",
              "    .colab-df-container {\n",
              "      display:flex;\n",
              "      flex-wrap:wrap;\n",
              "      gap: 12px;\n",
              "    }\n",
              "\n",
              "    .colab-df-convert {\n",
              "      background-color: #E8F0FE;\n",
              "      border: none;\n",
              "      border-radius: 50%;\n",
              "      cursor: pointer;\n",
              "      display: none;\n",
              "      fill: #1967D2;\n",
              "      height: 32px;\n",
              "      padding: 0 0 0 0;\n",
              "      width: 32px;\n",
              "    }\n",
              "\n",
              "    .colab-df-convert:hover {\n",
              "      background-color: #E2EBFA;\n",
              "      box-shadow: 0px 1px 2px rgba(60, 64, 67, 0.3), 0px 1px 3px 1px rgba(60, 64, 67, 0.15);\n",
              "      fill: #174EA6;\n",
              "    }\n",
              "\n",
              "    [theme=dark] .colab-df-convert {\n",
              "      background-color: #3B4455;\n",
              "      fill: #D2E3FC;\n",
              "    }\n",
              "\n",
              "    [theme=dark] .colab-df-convert:hover {\n",
              "      background-color: #434B5C;\n",
              "      box-shadow: 0px 1px 3px 1px rgba(0, 0, 0, 0.15);\n",
              "      filter: drop-shadow(0px 1px 2px rgba(0, 0, 0, 0.3));\n",
              "      fill: #FFFFFF;\n",
              "    }\n",
              "  </style>\n",
              "\n",
              "      <script>\n",
              "        const buttonEl =\n",
              "          document.querySelector('#df-5c814ea4-3fb8-4e0b-bc25-d6eab433eb71 button.colab-df-convert');\n",
              "        buttonEl.style.display =\n",
              "          google.colab.kernel.accessAllowed ? 'block' : 'none';\n",
              "\n",
              "        async function convertToInteractive(key) {\n",
              "          const element = document.querySelector('#df-5c814ea4-3fb8-4e0b-bc25-d6eab433eb71');\n",
              "          const dataTable =\n",
              "            await google.colab.kernel.invokeFunction('convertToInteractive',\n",
              "                                                     [key], {});\n",
              "          if (!dataTable) return;\n",
              "\n",
              "          const docLinkHtml = 'Like what you see? Visit the ' +\n",
              "            '<a target=\"_blank\" href=https://colab.research.google.com/notebooks/data_table.ipynb>data table notebook</a>'\n",
              "            + ' to learn more about interactive tables.';\n",
              "          element.innerHTML = '';\n",
              "          dataTable['output_type'] = 'display_data';\n",
              "          await google.colab.output.renderOutput(dataTable, element);\n",
              "          const docLink = document.createElement('div');\n",
              "          docLink.innerHTML = docLinkHtml;\n",
              "          element.appendChild(docLink);\n",
              "        }\n",
              "      </script>\n",
              "    </div>\n",
              "  </div>\n",
              "  "
            ]
          },
          "metadata": {},
          "execution_count": 10
        }
      ],
      "source": [
        "#Drop Duplicate Values in Columns\n",
        "data.drop_duplicates(inplace=True)\n",
        "data"
      ]
    },
    {
      "cell_type": "code",
      "execution_count": null,
      "id": "7afc3645",
      "metadata": {
        "execution": {
          "iopub.execute_input": "2022-01-17T15:16:02.809786Z",
          "iopub.status.busy": "2022-01-17T15:16:02.808743Z",
          "iopub.status.idle": "2022-01-17T15:16:02.816221Z",
          "shell.execute_reply": "2022-01-17T15:16:02.816699Z",
          "shell.execute_reply.started": "2022-01-17T15:14:49.213222Z"
        },
        "id": "7afc3645",
        "papermill": {
          "duration": 0.097692,
          "end_time": "2022-01-17T15:16:02.816890",
          "exception": false,
          "start_time": "2022-01-17T15:16:02.719198",
          "status": "completed"
        },
        "tags": []
      },
      "outputs": [],
      "source": [
        "#Drop unimportant Columns\n",
        "data.drop(['EmployeeID', 'birthdate_key', 'recorddate_key', 'gender_full'], axis=1, inplace=True)"
      ]
    },
    {
      "cell_type": "code",
      "execution_count": null,
      "id": "f95b67c7",
      "metadata": {
        "execution": {
          "iopub.execute_input": "2022-01-17T15:16:02.987302Z",
          "iopub.status.busy": "2022-01-17T15:16:02.986570Z",
          "iopub.status.idle": "2022-01-17T15:16:03.002725Z",
          "shell.execute_reply": "2022-01-17T15:16:03.003289Z",
          "shell.execute_reply.started": "2022-01-17T15:14:49.224766Z"
        },
        "id": "f95b67c7",
        "outputId": "68c6e650-6153-4a1f-e5dc-0516a3a42e01",
        "papermill": {
          "duration": 0.102995,
          "end_time": "2022-01-17T15:16:03.003460",
          "exception": false,
          "start_time": "2022-01-17T15:16:02.900465",
          "status": "completed"
        },
        "tags": [],
        "colab": {
          "base_uri": "https://localhost:8080/",
          "height": 270
        }
      },
      "outputs": [
        {
          "output_type": "execute_result",
          "data": {
            "text/plain": [
              "  orighiredate_key terminationdate_key  age  length_of_service  city_name  \\\n",
              "0        8/28/1989            1/1/1900   52                 17  Vancouver   \n",
              "1        8/28/1989            1/1/1900   53                 18  Vancouver   \n",
              "2        8/28/1989            1/1/1900   54                 19  Vancouver   \n",
              "3        8/28/1989            1/1/1900   55                 20  Vancouver   \n",
              "4        8/28/1989            1/1/1900   56                 21  Vancouver   \n",
              "\n",
              "  department_name job_title  store_name gender_short termreason_desc  \\\n",
              "0       Executive       CEO          35            M  Not Applicable   \n",
              "1       Executive       CEO          35            M  Not Applicable   \n",
              "2       Executive       CEO          35            M  Not Applicable   \n",
              "3       Executive       CEO          35            M  Not Applicable   \n",
              "4       Executive       CEO          35            M  Not Applicable   \n",
              "\n",
              "    termtype_desc  STATUS_YEAR  STATUS BUSINESS_UNIT  \n",
              "0  Not Applicable         2006  ACTIVE    HEADOFFICE  \n",
              "1  Not Applicable         2007  ACTIVE    HEADOFFICE  \n",
              "2  Not Applicable         2008  ACTIVE    HEADOFFICE  \n",
              "3  Not Applicable         2009  ACTIVE    HEADOFFICE  \n",
              "4  Not Applicable         2010  ACTIVE    HEADOFFICE  "
            ],
            "text/html": [
              "\n",
              "  <div id=\"df-8ab0a432-90aa-401e-aeed-76038ffe506a\">\n",
              "    <div class=\"colab-df-container\">\n",
              "      <div>\n",
              "<style scoped>\n",
              "    .dataframe tbody tr th:only-of-type {\n",
              "        vertical-align: middle;\n",
              "    }\n",
              "\n",
              "    .dataframe tbody tr th {\n",
              "        vertical-align: top;\n",
              "    }\n",
              "\n",
              "    .dataframe thead th {\n",
              "        text-align: right;\n",
              "    }\n",
              "</style>\n",
              "<table border=\"1\" class=\"dataframe\">\n",
              "  <thead>\n",
              "    <tr style=\"text-align: right;\">\n",
              "      <th></th>\n",
              "      <th>orighiredate_key</th>\n",
              "      <th>terminationdate_key</th>\n",
              "      <th>age</th>\n",
              "      <th>length_of_service</th>\n",
              "      <th>city_name</th>\n",
              "      <th>department_name</th>\n",
              "      <th>job_title</th>\n",
              "      <th>store_name</th>\n",
              "      <th>gender_short</th>\n",
              "      <th>termreason_desc</th>\n",
              "      <th>termtype_desc</th>\n",
              "      <th>STATUS_YEAR</th>\n",
              "      <th>STATUS</th>\n",
              "      <th>BUSINESS_UNIT</th>\n",
              "    </tr>\n",
              "  </thead>\n",
              "  <tbody>\n",
              "    <tr>\n",
              "      <th>0</th>\n",
              "      <td>8/28/1989</td>\n",
              "      <td>1/1/1900</td>\n",
              "      <td>52</td>\n",
              "      <td>17</td>\n",
              "      <td>Vancouver</td>\n",
              "      <td>Executive</td>\n",
              "      <td>CEO</td>\n",
              "      <td>35</td>\n",
              "      <td>M</td>\n",
              "      <td>Not Applicable</td>\n",
              "      <td>Not Applicable</td>\n",
              "      <td>2006</td>\n",
              "      <td>ACTIVE</td>\n",
              "      <td>HEADOFFICE</td>\n",
              "    </tr>\n",
              "    <tr>\n",
              "      <th>1</th>\n",
              "      <td>8/28/1989</td>\n",
              "      <td>1/1/1900</td>\n",
              "      <td>53</td>\n",
              "      <td>18</td>\n",
              "      <td>Vancouver</td>\n",
              "      <td>Executive</td>\n",
              "      <td>CEO</td>\n",
              "      <td>35</td>\n",
              "      <td>M</td>\n",
              "      <td>Not Applicable</td>\n",
              "      <td>Not Applicable</td>\n",
              "      <td>2007</td>\n",
              "      <td>ACTIVE</td>\n",
              "      <td>HEADOFFICE</td>\n",
              "    </tr>\n",
              "    <tr>\n",
              "      <th>2</th>\n",
              "      <td>8/28/1989</td>\n",
              "      <td>1/1/1900</td>\n",
              "      <td>54</td>\n",
              "      <td>19</td>\n",
              "      <td>Vancouver</td>\n",
              "      <td>Executive</td>\n",
              "      <td>CEO</td>\n",
              "      <td>35</td>\n",
              "      <td>M</td>\n",
              "      <td>Not Applicable</td>\n",
              "      <td>Not Applicable</td>\n",
              "      <td>2008</td>\n",
              "      <td>ACTIVE</td>\n",
              "      <td>HEADOFFICE</td>\n",
              "    </tr>\n",
              "    <tr>\n",
              "      <th>3</th>\n",
              "      <td>8/28/1989</td>\n",
              "      <td>1/1/1900</td>\n",
              "      <td>55</td>\n",
              "      <td>20</td>\n",
              "      <td>Vancouver</td>\n",
              "      <td>Executive</td>\n",
              "      <td>CEO</td>\n",
              "      <td>35</td>\n",
              "      <td>M</td>\n",
              "      <td>Not Applicable</td>\n",
              "      <td>Not Applicable</td>\n",
              "      <td>2009</td>\n",
              "      <td>ACTIVE</td>\n",
              "      <td>HEADOFFICE</td>\n",
              "    </tr>\n",
              "    <tr>\n",
              "      <th>4</th>\n",
              "      <td>8/28/1989</td>\n",
              "      <td>1/1/1900</td>\n",
              "      <td>56</td>\n",
              "      <td>21</td>\n",
              "      <td>Vancouver</td>\n",
              "      <td>Executive</td>\n",
              "      <td>CEO</td>\n",
              "      <td>35</td>\n",
              "      <td>M</td>\n",
              "      <td>Not Applicable</td>\n",
              "      <td>Not Applicable</td>\n",
              "      <td>2010</td>\n",
              "      <td>ACTIVE</td>\n",
              "      <td>HEADOFFICE</td>\n",
              "    </tr>\n",
              "  </tbody>\n",
              "</table>\n",
              "</div>\n",
              "      <button class=\"colab-df-convert\" onclick=\"convertToInteractive('df-8ab0a432-90aa-401e-aeed-76038ffe506a')\"\n",
              "              title=\"Convert this dataframe to an interactive table.\"\n",
              "              style=\"display:none;\">\n",
              "        \n",
              "  <svg xmlns=\"http://www.w3.org/2000/svg\" height=\"24px\"viewBox=\"0 0 24 24\"\n",
              "       width=\"24px\">\n",
              "    <path d=\"M0 0h24v24H0V0z\" fill=\"none\"/>\n",
              "    <path d=\"M18.56 5.44l.94 2.06.94-2.06 2.06-.94-2.06-.94-.94-2.06-.94 2.06-2.06.94zm-11 1L8.5 8.5l.94-2.06 2.06-.94-2.06-.94L8.5 2.5l-.94 2.06-2.06.94zm10 10l.94 2.06.94-2.06 2.06-.94-2.06-.94-.94-2.06-.94 2.06-2.06.94z\"/><path d=\"M17.41 7.96l-1.37-1.37c-.4-.4-.92-.59-1.43-.59-.52 0-1.04.2-1.43.59L10.3 9.45l-7.72 7.72c-.78.78-.78 2.05 0 2.83L4 21.41c.39.39.9.59 1.41.59.51 0 1.02-.2 1.41-.59l7.78-7.78 2.81-2.81c.8-.78.8-2.07 0-2.86zM5.41 20L4 18.59l7.72-7.72 1.47 1.35L5.41 20z\"/>\n",
              "  </svg>\n",
              "      </button>\n",
              "      \n",
              "  <style>\n",
              "    .colab-df-container {\n",
              "      display:flex;\n",
              "      flex-wrap:wrap;\n",
              "      gap: 12px;\n",
              "    }\n",
              "\n",
              "    .colab-df-convert {\n",
              "      background-color: #E8F0FE;\n",
              "      border: none;\n",
              "      border-radius: 50%;\n",
              "      cursor: pointer;\n",
              "      display: none;\n",
              "      fill: #1967D2;\n",
              "      height: 32px;\n",
              "      padding: 0 0 0 0;\n",
              "      width: 32px;\n",
              "    }\n",
              "\n",
              "    .colab-df-convert:hover {\n",
              "      background-color: #E2EBFA;\n",
              "      box-shadow: 0px 1px 2px rgba(60, 64, 67, 0.3), 0px 1px 3px 1px rgba(60, 64, 67, 0.15);\n",
              "      fill: #174EA6;\n",
              "    }\n",
              "\n",
              "    [theme=dark] .colab-df-convert {\n",
              "      background-color: #3B4455;\n",
              "      fill: #D2E3FC;\n",
              "    }\n",
              "\n",
              "    [theme=dark] .colab-df-convert:hover {\n",
              "      background-color: #434B5C;\n",
              "      box-shadow: 0px 1px 3px 1px rgba(0, 0, 0, 0.15);\n",
              "      filter: drop-shadow(0px 1px 2px rgba(0, 0, 0, 0.3));\n",
              "      fill: #FFFFFF;\n",
              "    }\n",
              "  </style>\n",
              "\n",
              "      <script>\n",
              "        const buttonEl =\n",
              "          document.querySelector('#df-8ab0a432-90aa-401e-aeed-76038ffe506a button.colab-df-convert');\n",
              "        buttonEl.style.display =\n",
              "          google.colab.kernel.accessAllowed ? 'block' : 'none';\n",
              "\n",
              "        async function convertToInteractive(key) {\n",
              "          const element = document.querySelector('#df-8ab0a432-90aa-401e-aeed-76038ffe506a');\n",
              "          const dataTable =\n",
              "            await google.colab.kernel.invokeFunction('convertToInteractive',\n",
              "                                                     [key], {});\n",
              "          if (!dataTable) return;\n",
              "\n",
              "          const docLinkHtml = 'Like what you see? Visit the ' +\n",
              "            '<a target=\"_blank\" href=https://colab.research.google.com/notebooks/data_table.ipynb>data table notebook</a>'\n",
              "            + ' to learn more about interactive tables.';\n",
              "          element.innerHTML = '';\n",
              "          dataTable['output_type'] = 'display_data';\n",
              "          await google.colab.output.renderOutput(dataTable, element);\n",
              "          const docLink = document.createElement('div');\n",
              "          docLink.innerHTML = docLinkHtml;\n",
              "          element.appendChild(docLink);\n",
              "        }\n",
              "      </script>\n",
              "    </div>\n",
              "  </div>\n",
              "  "
            ]
          },
          "metadata": {},
          "execution_count": 12
        }
      ],
      "source": [
        "data.head()"
      ]
    },
    {
      "cell_type": "code",
      "execution_count": null,
      "id": "e99a677d",
      "metadata": {
        "execution": {
          "iopub.execute_input": "2022-01-17T15:16:03.349184Z",
          "iopub.status.busy": "2022-01-17T15:16:03.348420Z",
          "iopub.status.idle": "2022-01-17T15:16:03.353857Z",
          "shell.execute_reply": "2022-01-17T15:16:03.354359Z",
          "shell.execute_reply.started": "2022-01-17T15:14:49.246074Z"
        },
        "id": "e99a677d",
        "outputId": "8ace2b12-6e77-42dd-e11f-dc840c703634",
        "papermill": {
          "duration": 0.098423,
          "end_time": "2022-01-17T15:16:03.354529",
          "exception": false,
          "start_time": "2022-01-17T15:16:03.256106",
          "status": "completed"
        },
        "tags": [],
        "colab": {
          "base_uri": "https://localhost:8080/"
        }
      },
      "outputs": [
        {
          "output_type": "execute_result",
          "data": {
            "text/plain": [
              "array(['Vancouver', 'Terrace', 'Nanaimo', 'Nelson', 'Kelowna', 'Victoria',\n",
              "       'Kamloops', 'Fort St John', 'Surrey', 'Vernon', 'Quesnel',\n",
              "       'Chilliwack', 'Dawson Creek', 'Squamish', 'New Westminster',\n",
              "       'Port Coquitlam', 'Cortes Island', 'Burnaby', 'Bella Bella',\n",
              "       'Cranbrook', 'Williams Lake', 'Trail', 'Prince George', 'Richmond',\n",
              "       'Grand Forks', 'West Vancouver', 'Abbotsford', 'Aldergrove',\n",
              "       'Langley', 'North Vancouver', 'White Rock', 'New Westminister',\n",
              "       'Fort Nelson', 'Haney', 'Valemount', 'Ocean Falls', 'Princeton',\n",
              "       'Dease Lake', 'Pitt Meadows', 'Blue River'], dtype=object)"
            ]
          },
          "metadata": {},
          "execution_count": 14
        }
      ],
      "source": [
        "#Unique City Names\n",
        "data.city_name.unique()"
      ]
    },
    {
      "cell_type": "code",
      "execution_count": null,
      "id": "9046df90",
      "metadata": {
        "execution": {
          "iopub.execute_input": "2022-01-17T15:16:03.703647Z",
          "iopub.status.busy": "2022-01-17T15:16:03.702666Z",
          "iopub.status.idle": "2022-01-17T15:16:03.710616Z",
          "shell.execute_reply": "2022-01-17T15:16:03.711245Z",
          "shell.execute_reply.started": "2022-01-17T15:14:49.263502Z"
        },
        "id": "9046df90",
        "outputId": "785c58ed-8ade-4c11-b1c2-8cc1a34cd5d8",
        "papermill": {
          "duration": 0.099572,
          "end_time": "2022-01-17T15:16:03.711442",
          "exception": false,
          "start_time": "2022-01-17T15:16:03.611870",
          "status": "completed"
        },
        "tags": [],
        "colab": {
          "base_uri": "https://localhost:8080/"
        }
      },
      "outputs": [
        {
          "output_type": "execute_result",
          "data": {
            "text/plain": [
              "array(['Executive', 'Store Management', 'Meats', 'Recruitment',\n",
              "       'Training', 'Labor Relations', 'HR Technology', 'Employee Records',\n",
              "       'Compensation', 'Legal', 'Produce', 'Accounts Receiveable',\n",
              "       'Bakery', 'Information Technology', 'Accounts Payable', 'Audit',\n",
              "       'Accounting', 'Investment', 'Dairy', 'Processed Foods',\n",
              "       'Customer Service'], dtype=object)"
            ]
          },
          "metadata": {},
          "execution_count": 15
        }
      ],
      "source": [
        "#Unique Department Names\n",
        "data.department_name.unique()"
      ]
    },
    {
      "cell_type": "code",
      "execution_count": null,
      "id": "380197e8",
      "metadata": {
        "execution": {
          "iopub.execute_input": "2022-01-17T15:16:04.057025Z",
          "iopub.status.busy": "2022-01-17T15:16:04.056071Z",
          "iopub.status.idle": "2022-01-17T15:16:04.066546Z",
          "shell.execute_reply": "2022-01-17T15:16:04.067155Z",
          "shell.execute_reply.started": "2022-01-17T15:14:49.279422Z"
        },
        "id": "380197e8",
        "outputId": "933c070e-1faa-440f-ad2c-1deaeba11217",
        "papermill": {
          "duration": 0.099929,
          "end_time": "2022-01-17T15:16:04.067325",
          "exception": false,
          "start_time": "2022-01-17T15:16:03.967396",
          "status": "completed"
        },
        "tags": [],
        "colab": {
          "base_uri": "https://localhost:8080/"
        }
      },
      "outputs": [
        {
          "output_type": "execute_result",
          "data": {
            "text/plain": [
              "array(['Not Applicable', 'Retirement', 'Resignaton', 'Layoff'],\n",
              "      dtype=object)"
            ]
          },
          "metadata": {},
          "execution_count": 16
        }
      ],
      "source": [
        "#Unique Termination Reasons\n",
        "data.termreason_desc.unique()"
      ]
    },
    {
      "cell_type": "code",
      "execution_count": null,
      "id": "82cdb6e0",
      "metadata": {
        "execution": {
          "iopub.execute_input": "2022-01-17T15:16:04.766103Z",
          "iopub.status.busy": "2022-01-17T15:16:04.765386Z",
          "iopub.status.idle": "2022-01-17T15:16:04.776525Z",
          "shell.execute_reply": "2022-01-17T15:16:04.777081Z",
          "shell.execute_reply.started": "2022-01-17T15:14:49.305531Z"
        },
        "id": "82cdb6e0",
        "outputId": "72be104c-49f3-454a-8c04-b733c13c4f48",
        "papermill": {
          "duration": 0.09968,
          "end_time": "2022-01-17T15:16:04.777254",
          "exception": false,
          "start_time": "2022-01-17T15:16:04.677574",
          "status": "completed"
        },
        "tags": [],
        "colab": {
          "base_uri": "https://localhost:8080/"
        }
      },
      "outputs": [
        {
          "output_type": "execute_result",
          "data": {
            "text/plain": [
              "array(['CEO', 'VP Stores', 'Legal Counsel', 'VP Human Resources',\n",
              "       'VP Finance', 'Exec Assistant, VP Stores',\n",
              "       'Exec Assistant, Legal Counsel', 'CHief Information Officer',\n",
              "       'Store Manager', 'Meats Manager',\n",
              "       'Exec Assistant, Human Resources', 'Exec Assistant, Finance',\n",
              "       'Director, Recruitment', 'Director, Training',\n",
              "       'Director, Labor Relations', 'Director, HR Technology',\n",
              "       'Director, Employee Records', 'Director, Compensation',\n",
              "       'Corporate Lawyer', 'Produce Manager',\n",
              "       'Director, Accounts Receivable', 'Bakery Manager',\n",
              "       'Systems Analyst', 'Director, Accounts Payable', 'Director, Audit',\n",
              "       'Director, Accounting', 'Director, Investments', 'Dairy Person',\n",
              "       'Recruiter', 'Processed Foods Manager', 'Customer Service Manager',\n",
              "       'Trainer', 'Meat Cutter', 'Labor Relations Analyst',\n",
              "       'Dairy Manager', 'HRIS Analyst', 'Benefits Admin',\n",
              "       'Compensation Analyst', 'Accounts Receiveable Clerk',\n",
              "       'Accounts Payable Clerk', 'Baker', 'Auditor', 'Accounting Clerk',\n",
              "       'Investment Analyst', 'Produce Clerk', 'Shelf Stocker', 'Cashier'],\n",
              "      dtype=object)"
            ]
          },
          "metadata": {},
          "execution_count": 17
        }
      ],
      "source": [
        "#Unique Job Titles\n",
        "data.job_title.unique()"
      ]
    },
    {
      "cell_type": "code",
      "execution_count": null,
      "id": "f383cd57",
      "metadata": {
        "execution": {
          "iopub.execute_input": "2022-01-17T15:16:05.127026Z",
          "iopub.status.busy": "2022-01-17T15:16:05.126293Z",
          "iopub.status.idle": "2022-01-17T15:16:05.167857Z",
          "shell.execute_reply": "2022-01-17T15:16:05.167216Z",
          "shell.execute_reply.started": "2022-01-17T15:14:49.324315Z"
        },
        "id": "f383cd57",
        "papermill": {
          "duration": 0.130902,
          "end_time": "2022-01-17T15:16:05.168001",
          "exception": false,
          "start_time": "2022-01-17T15:16:05.037099",
          "status": "completed"
        },
        "tags": []
      },
      "outputs": [],
      "source": [
        "#Converting Job Titles into four Categories\n",
        "\n",
        "board = ['CEO','VP Stores', 'Director, Recruitment', 'VP Human Resources', 'VP Finance', 'Director, Accounts Receivable', \n",
        "         'Director, Accounting', 'Director, Employee Records', 'Director, Accounts Payable', 'Director, HR Technology', \n",
        "         'Director, Investments', 'Director, Labor Relations', 'Director, Audit', 'Director, Training',\n",
        "         'Director, Compensation']\n",
        "\n",
        "executive = [ 'Exec Assistant, VP Stores', 'Exec Assistant, Legal Counsel', 'CHief Information Officer', \n",
        "             'Exec Assistant, Human Resources', 'Exec Assistant, Finance']\n",
        "\n",
        "manager = ['Customer Service Manager', 'Processed Foods Manager', 'Meats Manager',\n",
        "           'Bakery Manager', 'Produce Manager', 'Store Manager', 'Trainer', 'Dairy Manager']\n",
        "\n",
        "employee = ['Meat Cutter', 'Dairy Person', 'Produce Clerk', 'Baker', 'Cashier',\n",
        "            'Shelf Stocker', 'Recruiter', 'HRIS Analyst', 'Accounting Clerk',\n",
        "            'Benefits Admin', 'Labor Relations Analyst', 'Accounts Receiveable Clerk',\n",
        "            'Accounts Payable Clerk', 'Auditor', 'Compensation Analyst',\n",
        "            'Investment Analyst', 'Systems Analyst', 'Corporate Lawyer', 'Legal Counsel']\n",
        "\n",
        "def job_title(job):\n",
        "    if job in board: return 'board'\n",
        "    if job in executive: return 'executive'\n",
        "    if job in manager: return 'manager'\n",
        "    if job in employee: return 'employee'\n",
        "\n",
        "data['job_title'] = data['job_title'].map(job_title)"
      ]
    },
    {
      "cell_type": "code",
      "execution_count": null,
      "id": "d9289694",
      "metadata": {
        "execution": {
          "iopub.execute_input": "2022-01-17T15:16:05.513596Z",
          "iopub.status.busy": "2022-01-17T15:16:05.512948Z",
          "iopub.status.idle": "2022-01-17T15:16:05.523694Z",
          "shell.execute_reply": "2022-01-17T15:16:05.524260Z",
          "shell.execute_reply.started": "2022-01-17T15:14:49.369872Z"
        },
        "id": "d9289694",
        "outputId": "61ece1ec-3c85-415e-b7d4-865bece64029",
        "papermill": {
          "duration": 0.099881,
          "end_time": "2022-01-17T15:16:05.524434",
          "exception": false,
          "start_time": "2022-01-17T15:16:05.424553",
          "status": "completed"
        },
        "tags": [],
        "colab": {
          "base_uri": "https://localhost:8080/"
        }
      },
      "outputs": [
        {
          "output_type": "execute_result",
          "data": {
            "text/plain": [
              "array(['board', 'employee', 'executive', 'manager'], dtype=object)"
            ]
          },
          "metadata": {},
          "execution_count": 19
        }
      ],
      "source": [
        "#Converting Job Titles into four Categories\n",
        "data.job_title.unique()"
      ]
    },
    {
      "cell_type": "code",
      "execution_count": null,
      "id": "6ec34626",
      "metadata": {
        "execution": {
          "iopub.execute_input": "2022-01-17T15:16:05.873030Z",
          "iopub.status.busy": "2022-01-17T15:16:05.872343Z",
          "iopub.status.idle": "2022-01-17T15:16:05.895470Z",
          "shell.execute_reply": "2022-01-17T15:16:05.896052Z",
          "shell.execute_reply.started": "2022-01-17T15:14:49.380378Z"
        },
        "id": "6ec34626",
        "papermill": {
          "duration": 0.11235,
          "end_time": "2022-01-17T15:16:05.896231",
          "exception": false,
          "start_time": "2022-01-17T15:16:05.783881",
          "status": "completed"
        },
        "tags": []
      },
      "outputs": [],
      "source": [
        "#Changing the City Names to City Population\n",
        "city_population = {\n",
        "    'Vancouver':2313328,\n",
        "     'Victoria':289625,\n",
        "     'Nanaimo':84905,\n",
        "     'New Westminster':58549,\n",
        "     'Kelowna':125109,\n",
        "     'Burnaby':202799,\n",
        "     'Kamloops':68714,\n",
        "     'Prince George':65558,\n",
        "     'Cranbrook':18610,\n",
        "     'Surrey':394976,\n",
        "     'Richmond':182000,\n",
        "     'Terrace':19443,\n",
        "     'Chilliwack':77000,\n",
        "     'Trail':9707,\n",
        "     'Langley':23606,\n",
        "     'Vernon':47274,\n",
        "     'Squamish':19512,\n",
        "     'Quesnel':13799,\n",
        "     'Abbotsford':151683,\n",
        "     'North Vancouver':48000,\n",
        "     'Fort St John':17402,\n",
        "     'Williams Lake':14168,\n",
        "     'West Vancouver':42694,\n",
        "     'Port Coquitlam':114565,\n",
        "     'Aldergrove':12363,\n",
        "     'Fort Nelson':3561,\n",
        "     'Nelson':9813,\n",
        "     'New Westminister':58549,\n",
        "     'Grand Forks':4049,\n",
        "     'White Rock':66450,\n",
        "     'Haney':82256,\n",
        "     'Princeton':2828,\n",
        "     'Dawson Creek':10802,\n",
        "     'Bella Bella':1019,\n",
        "     'Ocean Falls':129,\n",
        "     'Pitt Meadows':174410,\n",
        "     'Cortes Island':1042,\n",
        "     'Valemount':1021,\n",
        "     'Dease Lake':335,\n",
        "     'Blue River':157\n",
        "}\n",
        "\n",
        "def change_city_into_city_pop(city):\n",
        "    return city_population(city)\n",
        "\n",
        "data['city_name'] = data['city_name'].map(city_population)"
      ]
    },
    {
      "cell_type": "code",
      "execution_count": null,
      "id": "2d1a42e9",
      "metadata": {
        "execution": {
          "iopub.execute_input": "2022-01-17T15:16:06.241750Z",
          "iopub.status.busy": "2022-01-17T15:16:06.241117Z",
          "iopub.status.idle": "2022-01-17T15:16:06.269634Z",
          "shell.execute_reply": "2022-01-17T15:16:06.270256Z",
          "shell.execute_reply.started": "2022-01-17T15:14:49.401000Z"
        },
        "id": "2d1a42e9",
        "papermill": {
          "duration": 0.117317,
          "end_time": "2022-01-17T15:16:06.270433",
          "exception": false,
          "start_time": "2022-01-17T15:16:06.153116",
          "status": "completed"
        },
        "tags": []
      },
      "outputs": [],
      "source": [
        "#Converting cities to either \"Rural\" or \"Town\" based on population\n",
        "def change_city(population):\n",
        "    str = 'rural'\n",
        "    if (population >= 10000) & (population < 100000): str = 'town'\n",
        "    if population >= 100000: str = 'mega'\n",
        "    return str\n",
        "\n",
        "data['city_name'] = data.city_name.map(change_city)"
      ]
    },
    {
      "cell_type": "code",
      "execution_count": null,
      "id": "32a5a206",
      "metadata": {
        "execution": {
          "iopub.execute_input": "2022-01-17T15:16:06.616790Z",
          "iopub.status.busy": "2022-01-17T15:16:06.616118Z",
          "iopub.status.idle": "2022-01-17T15:16:06.625719Z",
          "shell.execute_reply": "2022-01-17T15:16:06.626306Z",
          "shell.execute_reply.started": "2022-01-17T15:14:49.437574Z"
        },
        "id": "32a5a206",
        "outputId": "80ea8933-fe1c-4a2b-a3a7-ec01419d6945",
        "papermill": {
          "duration": 0.098562,
          "end_time": "2022-01-17T15:16:06.626475",
          "exception": false,
          "start_time": "2022-01-17T15:16:06.527913",
          "status": "completed"
        },
        "tags": []
      },
      "outputs": [
        {
          "data": {
            "text/plain": [
              "array(['mega', 'town', 'rural'], dtype=object)"
            ]
          },
          "execution_count": 18,
          "metadata": {},
          "output_type": "execute_result"
        }
      ],
      "source": [
        "#Unique Values for Cities after Reducing Data\n",
        "data['city_name'].unique()"
      ]
    },
    {
      "cell_type": "code",
      "execution_count": null,
      "id": "da6e7f47",
      "metadata": {
        "execution": {
          "iopub.execute_input": "2022-01-17T15:16:06.975813Z",
          "iopub.status.busy": "2022-01-17T15:16:06.975123Z",
          "iopub.status.idle": "2022-01-17T15:16:06.991190Z",
          "shell.execute_reply": "2022-01-17T15:16:06.991743Z",
          "shell.execute_reply.started": "2022-01-17T15:14:49.450253Z"
        },
        "id": "da6e7f47",
        "outputId": "5188757b-c9a1-4d01-bbd2-be1b7694575a",
        "papermill": {
          "duration": 0.105921,
          "end_time": "2022-01-17T15:16:06.991919",
          "exception": false,
          "start_time": "2022-01-17T15:16:06.885998",
          "status": "completed"
        },
        "tags": [],
        "colab": {
          "base_uri": "https://localhost:8080/",
          "height": 270
        }
      },
      "outputs": [
        {
          "output_type": "execute_result",
          "data": {
            "text/plain": [
              "  orighiredate_key terminationdate_key  age  length_of_service city_name  \\\n",
              "0        8/28/1989            1/1/1900   52                 17      mega   \n",
              "1        8/28/1989            1/1/1900   53                 18      mega   \n",
              "2        8/28/1989            1/1/1900   54                 19      mega   \n",
              "3        8/28/1989            1/1/1900   55                 20      mega   \n",
              "4        8/28/1989            1/1/1900   56                 21      mega   \n",
              "\n",
              "  department_name job_title  store_name gender_short termreason_desc  \\\n",
              "0       Executive     board          35            M  Not Applicable   \n",
              "1       Executive     board          35            M  Not Applicable   \n",
              "2       Executive     board          35            M  Not Applicable   \n",
              "3       Executive     board          35            M  Not Applicable   \n",
              "4       Executive     board          35            M  Not Applicable   \n",
              "\n",
              "    termtype_desc  STATUS_YEAR  STATUS BUSINESS_UNIT  \n",
              "0  Not Applicable         2006  ACTIVE    HEADOFFICE  \n",
              "1  Not Applicable         2007  ACTIVE    HEADOFFICE  \n",
              "2  Not Applicable         2008  ACTIVE    HEADOFFICE  \n",
              "3  Not Applicable         2009  ACTIVE    HEADOFFICE  \n",
              "4  Not Applicable         2010  ACTIVE    HEADOFFICE  "
            ],
            "text/html": [
              "\n",
              "  <div id=\"df-5d508e67-32f0-4c9c-82b6-48f6a6feba4f\">\n",
              "    <div class=\"colab-df-container\">\n",
              "      <div>\n",
              "<style scoped>\n",
              "    .dataframe tbody tr th:only-of-type {\n",
              "        vertical-align: middle;\n",
              "    }\n",
              "\n",
              "    .dataframe tbody tr th {\n",
              "        vertical-align: top;\n",
              "    }\n",
              "\n",
              "    .dataframe thead th {\n",
              "        text-align: right;\n",
              "    }\n",
              "</style>\n",
              "<table border=\"1\" class=\"dataframe\">\n",
              "  <thead>\n",
              "    <tr style=\"text-align: right;\">\n",
              "      <th></th>\n",
              "      <th>orighiredate_key</th>\n",
              "      <th>terminationdate_key</th>\n",
              "      <th>age</th>\n",
              "      <th>length_of_service</th>\n",
              "      <th>city_name</th>\n",
              "      <th>department_name</th>\n",
              "      <th>job_title</th>\n",
              "      <th>store_name</th>\n",
              "      <th>gender_short</th>\n",
              "      <th>termreason_desc</th>\n",
              "      <th>termtype_desc</th>\n",
              "      <th>STATUS_YEAR</th>\n",
              "      <th>STATUS</th>\n",
              "      <th>BUSINESS_UNIT</th>\n",
              "    </tr>\n",
              "  </thead>\n",
              "  <tbody>\n",
              "    <tr>\n",
              "      <th>0</th>\n",
              "      <td>8/28/1989</td>\n",
              "      <td>1/1/1900</td>\n",
              "      <td>52</td>\n",
              "      <td>17</td>\n",
              "      <td>mega</td>\n",
              "      <td>Executive</td>\n",
              "      <td>board</td>\n",
              "      <td>35</td>\n",
              "      <td>M</td>\n",
              "      <td>Not Applicable</td>\n",
              "      <td>Not Applicable</td>\n",
              "      <td>2006</td>\n",
              "      <td>ACTIVE</td>\n",
              "      <td>HEADOFFICE</td>\n",
              "    </tr>\n",
              "    <tr>\n",
              "      <th>1</th>\n",
              "      <td>8/28/1989</td>\n",
              "      <td>1/1/1900</td>\n",
              "      <td>53</td>\n",
              "      <td>18</td>\n",
              "      <td>mega</td>\n",
              "      <td>Executive</td>\n",
              "      <td>board</td>\n",
              "      <td>35</td>\n",
              "      <td>M</td>\n",
              "      <td>Not Applicable</td>\n",
              "      <td>Not Applicable</td>\n",
              "      <td>2007</td>\n",
              "      <td>ACTIVE</td>\n",
              "      <td>HEADOFFICE</td>\n",
              "    </tr>\n",
              "    <tr>\n",
              "      <th>2</th>\n",
              "      <td>8/28/1989</td>\n",
              "      <td>1/1/1900</td>\n",
              "      <td>54</td>\n",
              "      <td>19</td>\n",
              "      <td>mega</td>\n",
              "      <td>Executive</td>\n",
              "      <td>board</td>\n",
              "      <td>35</td>\n",
              "      <td>M</td>\n",
              "      <td>Not Applicable</td>\n",
              "      <td>Not Applicable</td>\n",
              "      <td>2008</td>\n",
              "      <td>ACTIVE</td>\n",
              "      <td>HEADOFFICE</td>\n",
              "    </tr>\n",
              "    <tr>\n",
              "      <th>3</th>\n",
              "      <td>8/28/1989</td>\n",
              "      <td>1/1/1900</td>\n",
              "      <td>55</td>\n",
              "      <td>20</td>\n",
              "      <td>mega</td>\n",
              "      <td>Executive</td>\n",
              "      <td>board</td>\n",
              "      <td>35</td>\n",
              "      <td>M</td>\n",
              "      <td>Not Applicable</td>\n",
              "      <td>Not Applicable</td>\n",
              "      <td>2009</td>\n",
              "      <td>ACTIVE</td>\n",
              "      <td>HEADOFFICE</td>\n",
              "    </tr>\n",
              "    <tr>\n",
              "      <th>4</th>\n",
              "      <td>8/28/1989</td>\n",
              "      <td>1/1/1900</td>\n",
              "      <td>56</td>\n",
              "      <td>21</td>\n",
              "      <td>mega</td>\n",
              "      <td>Executive</td>\n",
              "      <td>board</td>\n",
              "      <td>35</td>\n",
              "      <td>M</td>\n",
              "      <td>Not Applicable</td>\n",
              "      <td>Not Applicable</td>\n",
              "      <td>2010</td>\n",
              "      <td>ACTIVE</td>\n",
              "      <td>HEADOFFICE</td>\n",
              "    </tr>\n",
              "  </tbody>\n",
              "</table>\n",
              "</div>\n",
              "      <button class=\"colab-df-convert\" onclick=\"convertToInteractive('df-5d508e67-32f0-4c9c-82b6-48f6a6feba4f')\"\n",
              "              title=\"Convert this dataframe to an interactive table.\"\n",
              "              style=\"display:none;\">\n",
              "        \n",
              "  <svg xmlns=\"http://www.w3.org/2000/svg\" height=\"24px\"viewBox=\"0 0 24 24\"\n",
              "       width=\"24px\">\n",
              "    <path d=\"M0 0h24v24H0V0z\" fill=\"none\"/>\n",
              "    <path d=\"M18.56 5.44l.94 2.06.94-2.06 2.06-.94-2.06-.94-.94-2.06-.94 2.06-2.06.94zm-11 1L8.5 8.5l.94-2.06 2.06-.94-2.06-.94L8.5 2.5l-.94 2.06-2.06.94zm10 10l.94 2.06.94-2.06 2.06-.94-2.06-.94-.94-2.06-.94 2.06-2.06.94z\"/><path d=\"M17.41 7.96l-1.37-1.37c-.4-.4-.92-.59-1.43-.59-.52 0-1.04.2-1.43.59L10.3 9.45l-7.72 7.72c-.78.78-.78 2.05 0 2.83L4 21.41c.39.39.9.59 1.41.59.51 0 1.02-.2 1.41-.59l7.78-7.78 2.81-2.81c.8-.78.8-2.07 0-2.86zM5.41 20L4 18.59l7.72-7.72 1.47 1.35L5.41 20z\"/>\n",
              "  </svg>\n",
              "      </button>\n",
              "      \n",
              "  <style>\n",
              "    .colab-df-container {\n",
              "      display:flex;\n",
              "      flex-wrap:wrap;\n",
              "      gap: 12px;\n",
              "    }\n",
              "\n",
              "    .colab-df-convert {\n",
              "      background-color: #E8F0FE;\n",
              "      border: none;\n",
              "      border-radius: 50%;\n",
              "      cursor: pointer;\n",
              "      display: none;\n",
              "      fill: #1967D2;\n",
              "      height: 32px;\n",
              "      padding: 0 0 0 0;\n",
              "      width: 32px;\n",
              "    }\n",
              "\n",
              "    .colab-df-convert:hover {\n",
              "      background-color: #E2EBFA;\n",
              "      box-shadow: 0px 1px 2px rgba(60, 64, 67, 0.3), 0px 1px 3px 1px rgba(60, 64, 67, 0.15);\n",
              "      fill: #174EA6;\n",
              "    }\n",
              "\n",
              "    [theme=dark] .colab-df-convert {\n",
              "      background-color: #3B4455;\n",
              "      fill: #D2E3FC;\n",
              "    }\n",
              "\n",
              "    [theme=dark] .colab-df-convert:hover {\n",
              "      background-color: #434B5C;\n",
              "      box-shadow: 0px 1px 3px 1px rgba(0, 0, 0, 0.15);\n",
              "      filter: drop-shadow(0px 1px 2px rgba(0, 0, 0, 0.3));\n",
              "      fill: #FFFFFF;\n",
              "    }\n",
              "  </style>\n",
              "\n",
              "      <script>\n",
              "        const buttonEl =\n",
              "          document.querySelector('#df-5d508e67-32f0-4c9c-82b6-48f6a6feba4f button.colab-df-convert');\n",
              "        buttonEl.style.display =\n",
              "          google.colab.kernel.accessAllowed ? 'block' : 'none';\n",
              "\n",
              "        async function convertToInteractive(key) {\n",
              "          const element = document.querySelector('#df-5d508e67-32f0-4c9c-82b6-48f6a6feba4f');\n",
              "          const dataTable =\n",
              "            await google.colab.kernel.invokeFunction('convertToInteractive',\n",
              "                                                     [key], {});\n",
              "          if (!dataTable) return;\n",
              "\n",
              "          const docLinkHtml = 'Like what you see? Visit the ' +\n",
              "            '<a target=\"_blank\" href=https://colab.research.google.com/notebooks/data_table.ipynb>data table notebook</a>'\n",
              "            + ' to learn more about interactive tables.';\n",
              "          element.innerHTML = '';\n",
              "          dataTable['output_type'] = 'display_data';\n",
              "          await google.colab.output.renderOutput(dataTable, element);\n",
              "          const docLink = document.createElement('div');\n",
              "          docLink.innerHTML = docLinkHtml;\n",
              "          element.appendChild(docLink);\n",
              "        }\n",
              "      </script>\n",
              "    </div>\n",
              "  </div>\n",
              "  "
            ]
          },
          "metadata": {},
          "execution_count": 22
        }
      ],
      "source": [
        "data.head()"
      ]
    },
    {
      "cell_type": "code",
      "execution_count": null,
      "id": "57e87355",
      "metadata": {
        "execution": {
          "iopub.execute_input": "2022-01-17T15:16:07.736781Z",
          "iopub.status.busy": "2022-01-17T15:16:07.736150Z",
          "iopub.status.idle": "2022-01-17T15:16:07.977441Z",
          "shell.execute_reply": "2022-01-17T15:16:07.978004Z",
          "shell.execute_reply.started": "2022-01-17T15:14:49.487535Z"
        },
        "id": "57e87355",
        "outputId": "2b0956dc-aed6-471a-c99f-e2833c2f9254",
        "papermill": {
          "duration": 0.331698,
          "end_time": "2022-01-17T15:16:07.978219",
          "exception": false,
          "start_time": "2022-01-17T15:16:07.646521",
          "status": "completed"
        },
        "tags": [],
        "colab": {
          "base_uri": "https://localhost:8080/",
          "height": 419
        }
      },
      "outputs": [
        {
          "output_type": "stream",
          "name": "stderr",
          "text": [
            "/usr/local/lib/python3.7/dist-packages/seaborn/_decorators.py:43: FutureWarning: Pass the following variables as keyword args: x, y. From version 0.12, the only valid positional argument will be `data`, and passing other arguments without an explicit keyword will result in an error or misinterpretation.\n",
            "  FutureWarning\n"
          ]
        },
        {
          "output_type": "execute_result",
          "data": {
            "text/plain": [
              "Text(0, 0.5, 'Count')"
            ]
          },
          "metadata": {},
          "execution_count": 23
        },
        {
          "output_type": "display_data",
          "data": {
            "text/plain": [
              "<Figure size 720x360 with 1 Axes>"
            ],
            "image/png": "[encoded data removed]"
          },
          "metadata": {
            "needs_background": "light"
          }
        }
      ],
      "source": [
        "status_label = data.STATUS.value_counts()\n",
        "plt.figure(figsize=(10, 5))\n",
        "sns.barplot(status_label.index, status_label);\n",
        "plt.xlabel('STATUS', fontsize=20);\n",
        "plt.ylabel('Count', fontsize=20)"
      ]
    },
    {
      "cell_type": "code",
      "execution_count": null,
      "id": "00a91766",
      "metadata": {
        "execution": {
          "iopub.execute_input": "2022-01-17T15:16:08.515446Z",
          "iopub.status.busy": "2022-01-17T15:16:08.514736Z",
          "iopub.status.idle": "2022-01-17T15:16:08.742616Z",
          "shell.execute_reply": "2022-01-17T15:16:08.741948Z",
          "shell.execute_reply.started": "2022-01-17T15:14:49.679166Z"
        },
        "id": "00a91766",
        "outputId": "a0dd1e12-9439-4aca-b012-b59ba96a31db",
        "papermill": {
          "duration": 0.320109,
          "end_time": "2022-01-17T15:16:08.742803",
          "exception": false,
          "start_time": "2022-01-17T15:16:08.422694",
          "status": "completed"
        },
        "tags": [],
        "colab": {
          "base_uri": "https://localhost:8080/"
        }
      },
      "outputs": [
        {
          "output_type": "execute_result",
          "data": {
            "text/plain": [
              "ACTIVE        48168\n",
              "TERMINATED    48168\n",
              "Name: STATUS, dtype: int64"
            ]
          },
          "metadata": {},
          "execution_count": 24
        }
      ],
      "source": [
        "# We can see that the data is highly imbalanced\n",
        "# To make it balance we apply sampling technique\n",
        "from sklearn.utils import resample\n",
        "\n",
        "df_1 = data[data.STATUS==\"ACTIVE\"]\n",
        "df_2 = data[data.STATUS==\"TERMINATED\"]\n",
        " \n",
        "# Upsample minority class\n",
        "df_2_upsampled = resample(df_2, \n",
        "                                 replace=True,     \n",
        "                                 n_samples=48168,    \n",
        "                                 random_state=123) \n",
        "\n",
        "# Combine majority class with upsampled minority class\n",
        "df_upsampled = pd.concat([df_1, df_2_upsampled])\n",
        " \n",
        "\n",
        "df_upsampled.STATUS.value_counts()"
      ]
    },
    {
      "cell_type": "code",
      "execution_count": null,
      "id": "318c76a3",
      "metadata": {
        "execution": {
          "iopub.execute_input": "2022-01-17T15:16:08.926616Z",
          "iopub.status.busy": "2022-01-17T15:16:08.925976Z",
          "iopub.status.idle": "2022-01-17T15:16:08.946963Z",
          "shell.execute_reply": "2022-01-17T15:16:08.947547Z",
          "shell.execute_reply.started": "2022-01-17T15:14:49.766787Z"
        },
        "id": "318c76a3",
        "outputId": "3b03ec92-d172-483a-fd01-cdb163f7af39",
        "papermill": {
          "duration": 0.115126,
          "end_time": "2022-01-17T15:16:08.947742",
          "exception": false,
          "start_time": "2022-01-17T15:16:08.832616",
          "status": "completed"
        },
        "tags": [],
        "colab": {
          "base_uri": "https://localhost:8080/",
          "height": 487
        }
      },
      "outputs": [
        {
          "output_type": "execute_result",
          "data": {
            "text/plain": [
              "      orighiredate_key terminationdate_key  age  length_of_service city_name  \\\n",
              "0            8/28/1989            1/1/1900   52                 17      mega   \n",
              "1            8/28/1989            1/1/1900   53                 18      mega   \n",
              "2            8/28/1989            1/1/1900   54                 19      mega   \n",
              "3            8/28/1989            1/1/1900   55                 20      mega   \n",
              "4            8/28/1989            1/1/1900   56                 21      mega   \n",
              "...                ...                 ...  ...                ...       ...   \n",
              "48938         8/8/1998           1/31/2007   60                  8      town   \n",
              "48796         6/1/1997          11/24/2010   65                 13      town   \n",
              "49456        5/19/2009          11/12/2012   26                  3      town   \n",
              "49046        6/23/1999          12/16/2007   60                  8      mega   \n",
              "48644        4/12/1995           10/5/2008   65                 13      mega   \n",
              "\n",
              "       department_name job_title  store_name gender_short termreason_desc  \\\n",
              "0            Executive     board          35            M  Not Applicable   \n",
              "1            Executive     board          35            M  Not Applicable   \n",
              "2            Executive     board          35            M  Not Applicable   \n",
              "3            Executive     board          35            M  Not Applicable   \n",
              "4            Executive     board          35            M  Not Applicable   \n",
              "...                ...       ...         ...          ...             ...   \n",
              "48938          Produce  employee          18            M      Retirement   \n",
              "48796            Meats  employee          28            F      Retirement   \n",
              "49456  Processed Foods  employee          21            F      Resignaton   \n",
              "49046            Meats  employee          35            M      Retirement   \n",
              "48644            Meats  employee          25            F      Retirement   \n",
              "\n",
              "        termtype_desc  STATUS_YEAR      STATUS BUSINESS_UNIT  \n",
              "0      Not Applicable         2006      ACTIVE    HEADOFFICE  \n",
              "1      Not Applicable         2007      ACTIVE    HEADOFFICE  \n",
              "2      Not Applicable         2008      ACTIVE    HEADOFFICE  \n",
              "3      Not Applicable         2009      ACTIVE    HEADOFFICE  \n",
              "4      Not Applicable         2010      ACTIVE    HEADOFFICE  \n",
              "...               ...          ...         ...           ...  \n",
              "48938       Voluntary         2007  TERMINATED        STORES  \n",
              "48796       Voluntary         2010  TERMINATED        STORES  \n",
              "49456       Voluntary         2012  TERMINATED        STORES  \n",
              "49046       Voluntary         2007  TERMINATED        STORES  \n",
              "48644       Voluntary         2008  TERMINATED        STORES  \n",
              "\n",
              "[96336 rows x 14 columns]"
            ],
            "text/html": [
              "\n",
              "  <div id=\"df-e83fbc49-1cd4-45f9-b296-9b8e836a4ee2\">\n",
              "    <div class=\"colab-df-container\">\n",
              "      <div>\n",
              "<style scoped>\n",
              "    .dataframe tbody tr th:only-of-type {\n",
              "        vertical-align: middle;\n",
              "    }\n",
              "\n",
              "    .dataframe tbody tr th {\n",
              "        vertical-align: top;\n",
              "    }\n",
              "\n",
              "    .dataframe thead th {\n",
              "        text-align: right;\n",
              "    }\n",
              "</style>\n",
              "<table border=\"1\" class=\"dataframe\">\n",
              "  <thead>\n",
              "    <tr style=\"text-align: right;\">\n",
              "      <th></th>\n",
              "      <th>orighiredate_key</th>\n",
              "      <th>terminationdate_key</th>\n",
              "      <th>age</th>\n",
              "      <th>length_of_service</th>\n",
              "      <th>city_name</th>\n",
              "      <th>department_name</th>\n",
              "      <th>job_title</th>\n",
              "      <th>store_name</th>\n",
              "      <th>gender_short</th>\n",
              "      <th>termreason_desc</th>\n",
              "      <th>termtype_desc</th>\n",
              "      <th>STATUS_YEAR</th>\n",
              "      <th>STATUS</th>\n",
              "      <th>BUSINESS_UNIT</th>\n",
              "    </tr>\n",
              "  </thead>\n",
              "  <tbody>\n",
              "    <tr>\n",
              "      <th>0</th>\n",
              "      <td>8/28/1989</td>\n",
              "      <td>1/1/1900</td>\n",
              "      <td>52</td>\n",
              "      <td>17</td>\n",
              "      <td>mega</td>\n",
              "      <td>Executive</td>\n",
              "      <td>board</td>\n",
              "      <td>35</td>\n",
              "      <td>M</td>\n",
              "      <td>Not Applicable</td>\n",
              "      <td>Not Applicable</td>\n",
              "      <td>2006</td>\n",
              "      <td>ACTIVE</td>\n",
              "      <td>HEADOFFICE</td>\n",
              "    </tr>\n",
              "    <tr>\n",
              "      <th>1</th>\n",
              "      <td>8/28/1989</td>\n",
              "      <td>1/1/1900</td>\n",
              "      <td>53</td>\n",
              "      <td>18</td>\n",
              "      <td>mega</td>\n",
              "      <td>Executive</td>\n",
              "      <td>board</td>\n",
              "      <td>35</td>\n",
              "      <td>M</td>\n",
              "      <td>Not Applicable</td>\n",
              "      <td>Not Applicable</td>\n",
              "      <td>2007</td>\n",
              "      <td>ACTIVE</td>\n",
              "      <td>HEADOFFICE</td>\n",
              "    </tr>\n",
              "    <tr>\n",
              "      <th>2</th>\n",
              "      <td>8/28/1989</td>\n",
              "      <td>1/1/1900</td>\n",
              "      <td>54</td>\n",
              "      <td>19</td>\n",
              "      <td>mega</td>\n",
              "      <td>Executive</td>\n",
              "      <td>board</td>\n",
              "      <td>35</td>\n",
              "      <td>M</td>\n",
              "      <td>Not Applicable</td>\n",
              "      <td>Not Applicable</td>\n",
              "      <td>2008</td>\n",
              "      <td>ACTIVE</td>\n",
              "      <td>HEADOFFICE</td>\n",
              "    </tr>\n",
              "    <tr>\n",
              "      <th>3</th>\n",
              "      <td>8/28/1989</td>\n",
              "      <td>1/1/1900</td>\n",
              "      <td>55</td>\n",
              "      <td>20</td>\n",
              "      <td>mega</td>\n",
              "      <td>Executive</td>\n",
              "      <td>board</td>\n",
              "      <td>35</td>\n",
              "      <td>M</td>\n",
              "      <td>Not Applicable</td>\n",
              "      <td>Not Applicable</td>\n",
              "      <td>2009</td>\n",
              "      <td>ACTIVE</td>\n",
              "      <td>HEADOFFICE</td>\n",
              "    </tr>\n",
              "    <tr>\n",
              "      <th>4</th>\n",
              "      <td>8/28/1989</td>\n",
              "      <td>1/1/1900</td>\n",
              "      <td>56</td>\n",
              "      <td>21</td>\n",
              "      <td>mega</td>\n",
              "      <td>Executive</td>\n",
              "      <td>board</td>\n",
              "      <td>35</td>\n",
              "      <td>M</td>\n",
              "      <td>Not Applicable</td>\n",
              "      <td>Not Applicable</td>\n",
              "      <td>2010</td>\n",
              "      <td>ACTIVE</td>\n",
              "      <td>HEADOFFICE</td>\n",
              "    </tr>\n",
              "    <tr>\n",
              "      <th>...</th>\n",
              "      <td>...</td>\n",
              "      <td>...</td>\n",
              "      <td>...</td>\n",
              "      <td>...</td>\n",
              "      <td>...</td>\n",
              "      <td>...</td>\n",
              "      <td>...</td>\n",
              "      <td>...</td>\n",
              "      <td>...</td>\n",
              "      <td>...</td>\n",
              "      <td>...</td>\n",
              "      <td>...</td>\n",
              "      <td>...</td>\n",
              "      <td>...</td>\n",
              "    </tr>\n",
              "    <tr>\n",
              "      <th>48938</th>\n",
              "      <td>8/8/1998</td>\n",
              "      <td>1/31/2007</td>\n",
              "      <td>60</td>\n",
              "      <td>8</td>\n",
              "      <td>town</td>\n",
              "      <td>Produce</td>\n",
              "      <td>employee</td>\n",
              "      <td>18</td>\n",
              "      <td>M</td>\n",
              "      <td>Retirement</td>\n",
              "      <td>Voluntary</td>\n",
              "      <td>2007</td>\n",
              "      <td>TERMINATED</td>\n",
              "      <td>STORES</td>\n",
              "    </tr>\n",
              "    <tr>\n",
              "      <th>48796</th>\n",
              "      <td>6/1/1997</td>\n",
              "      <td>11/24/2010</td>\n",
              "      <td>65</td>\n",
              "      <td>13</td>\n",
              "      <td>town</td>\n",
              "      <td>Meats</td>\n",
              "      <td>employee</td>\n",
              "      <td>28</td>\n",
              "      <td>F</td>\n",
              "      <td>Retirement</td>\n",
              "      <td>Voluntary</td>\n",
              "      <td>2010</td>\n",
              "      <td>TERMINATED</td>\n",
              "      <td>STORES</td>\n",
              "    </tr>\n",
              "    <tr>\n",
              "      <th>49456</th>\n",
              "      <td>5/19/2009</td>\n",
              "      <td>11/12/2012</td>\n",
              "      <td>26</td>\n",
              "      <td>3</td>\n",
              "      <td>town</td>\n",
              "      <td>Processed Foods</td>\n",
              "      <td>employee</td>\n",
              "      <td>21</td>\n",
              "      <td>F</td>\n",
              "      <td>Resignaton</td>\n",
              "      <td>Voluntary</td>\n",
              "      <td>2012</td>\n",
              "      <td>TERMINATED</td>\n",
              "      <td>STORES</td>\n",
              "    </tr>\n",
              "    <tr>\n",
              "      <th>49046</th>\n",
              "      <td>6/23/1999</td>\n",
              "      <td>12/16/2007</td>\n",
              "      <td>60</td>\n",
              "      <td>8</td>\n",
              "      <td>mega</td>\n",
              "      <td>Meats</td>\n",
              "      <td>employee</td>\n",
              "      <td>35</td>\n",
              "      <td>M</td>\n",
              "      <td>Retirement</td>\n",
              "      <td>Voluntary</td>\n",
              "      <td>2007</td>\n",
              "      <td>TERMINATED</td>\n",
              "      <td>STORES</td>\n",
              "    </tr>\n",
              "    <tr>\n",
              "      <th>48644</th>\n",
              "      <td>4/12/1995</td>\n",
              "      <td>10/5/2008</td>\n",
              "      <td>65</td>\n",
              "      <td>13</td>\n",
              "      <td>mega</td>\n",
              "      <td>Meats</td>\n",
              "      <td>employee</td>\n",
              "      <td>25</td>\n",
              "      <td>F</td>\n",
              "      <td>Retirement</td>\n",
              "      <td>Voluntary</td>\n",
              "      <td>2008</td>\n",
              "      <td>TERMINATED</td>\n",
              "      <td>STORES</td>\n",
              "    </tr>\n",
              "  </tbody>\n",
              "</table>\n",
              "<p>96336 rows × 14 columns</p>\n",
              "</div>\n",
              "      <button class=\"colab-df-convert\" onclick=\"convertToInteractive('df-e83fbc49-1cd4-45f9-b296-9b8e836a4ee2')\"\n",
              "              title=\"Convert this dataframe to an interactive table.\"\n",
              "              style=\"display:none;\">\n",
              "        \n",
              "  <svg xmlns=\"http://www.w3.org/2000/svg\" height=\"24px\"viewBox=\"0 0 24 24\"\n",
              "       width=\"24px\">\n",
              "    <path d=\"M0 0h24v24H0V0z\" fill=\"none\"/>\n",
              "    <path d=\"M18.56 5.44l.94 2.06.94-2.06 2.06-.94-2.06-.94-.94-2.06-.94 2.06-2.06.94zm-11 1L8.5 8.5l.94-2.06 2.06-.94-2.06-.94L8.5 2.5l-.94 2.06-2.06.94zm10 10l.94 2.06.94-2.06 2.06-.94-2.06-.94-.94-2.06-.94 2.06-2.06.94z\"/><path d=\"M17.41 7.96l-1.37-1.37c-.4-.4-.92-.59-1.43-.59-.52 0-1.04.2-1.43.59L10.3 9.45l-7.72 7.72c-.78.78-.78 2.05 0 2.83L4 21.41c.39.39.9.59 1.41.59.51 0 1.02-.2 1.41-.59l7.78-7.78 2.81-2.81c.8-.78.8-2.07 0-2.86zM5.41 20L4 18.59l7.72-7.72 1.47 1.35L5.41 20z\"/>\n",
              "  </svg>\n",
              "      </button>\n",
              "      \n",
              "  <style>\n",
              "    .colab-df-container {\n",
              "      display:flex;\n",
              "      flex-wrap:wrap;\n",
              "      gap: 12px;\n",
              "    }\n",
              "\n",
              "    .colab-df-convert {\n",
              "      background-color: #E8F0FE;\n",
              "      border: none;\n",
              "      border-radius: 50%;\n",
              "      cursor: pointer;\n",
              "      display: none;\n",
              "      fill: #1967D2;\n",
              "      height: 32px;\n",
              "      padding: 0 0 0 0;\n",
              "      width: 32px;\n",
              "    }\n",
              "\n",
              "    .colab-df-convert:hover {\n",
              "      background-color: #E2EBFA;\n",
              "      box-shadow: 0px 1px 2px rgba(60, 64, 67, 0.3), 0px 1px 3px 1px rgba(60, 64, 67, 0.15);\n",
              "      fill: #174EA6;\n",
              "    }\n",
              "\n",
              "    [theme=dark] .colab-df-convert {\n",
              "      background-color: #3B4455;\n",
              "      fill: #D2E3FC;\n",
              "    }\n",
              "\n",
              "    [theme=dark] .colab-df-convert:hover {\n",
              "      background-color: #434B5C;\n",
              "      box-shadow: 0px 1px 3px 1px rgba(0, 0, 0, 0.15);\n",
              "      filter: drop-shadow(0px 1px 2px rgba(0, 0, 0, 0.3));\n",
              "      fill: #FFFFFF;\n",
              "    }\n",
              "  </style>\n",
              "\n",
              "      <script>\n",
              "        const buttonEl =\n",
              "          document.querySelector('#df-e83fbc49-1cd4-45f9-b296-9b8e836a4ee2 button.colab-df-convert');\n",
              "        buttonEl.style.display =\n",
              "          google.colab.kernel.accessAllowed ? 'block' : 'none';\n",
              "\n",
              "        async function convertToInteractive(key) {\n",
              "          const element = document.querySelector('#df-e83fbc49-1cd4-45f9-b296-9b8e836a4ee2');\n",
              "          const dataTable =\n",
              "            await google.colab.kernel.invokeFunction('convertToInteractive',\n",
              "                                                     [key], {});\n",
              "          if (!dataTable) return;\n",
              "\n",
              "          const docLinkHtml = 'Like what you see? Visit the ' +\n",
              "            '<a target=\"_blank\" href=https://colab.research.google.com/notebooks/data_table.ipynb>data table notebook</a>'\n",
              "            + ' to learn more about interactive tables.';\n",
              "          element.innerHTML = '';\n",
              "          dataTable['output_type'] = 'display_data';\n",
              "          await google.colab.output.renderOutput(dataTable, element);\n",
              "          const docLink = document.createElement('div');\n",
              "          docLink.innerHTML = docLinkHtml;\n",
              "          element.appendChild(docLink);\n",
              "        }\n",
              "      </script>\n",
              "    </div>\n",
              "  </div>\n",
              "  "
            ]
          },
          "metadata": {},
          "execution_count": 25
        }
      ],
      "source": [
        "df_upsampled"
      ]
    },
    {
      "cell_type": "code",
      "execution_count": null,
      "id": "879b91f7",
      "metadata": {
        "execution": {
          "iopub.execute_input": "2022-01-17T15:16:09.308814Z",
          "iopub.status.busy": "2022-01-17T15:16:09.308141Z",
          "iopub.status.idle": "2022-01-17T15:16:09.511554Z",
          "shell.execute_reply": "2022-01-17T15:16:09.512039Z",
          "shell.execute_reply.started": "2022-01-17T15:14:49.796781Z"
        },
        "id": "879b91f7",
        "outputId": "38571e8c-8a03-441c-9468-dde75a538b9c",
        "papermill": {
          "duration": 0.297111,
          "end_time": "2022-01-17T15:16:09.512217",
          "exception": false,
          "start_time": "2022-01-17T15:16:09.215106",
          "status": "completed"
        },
        "tags": [],
        "colab": {
          "base_uri": "https://localhost:8080/",
          "height": 419
        }
      },
      "outputs": [
        {
          "output_type": "stream",
          "name": "stderr",
          "text": [
            "/usr/local/lib/python3.7/dist-packages/seaborn/_decorators.py:43: FutureWarning: Pass the following variables as keyword args: x, y. From version 0.12, the only valid positional argument will be `data`, and passing other arguments without an explicit keyword will result in an error or misinterpretation.\n",
            "  FutureWarning\n"
          ]
        },
        {
          "output_type": "execute_result",
          "data": {
            "text/plain": [
              "Text(0, 0.5, 'Count')"
            ]
          },
          "metadata": {},
          "execution_count": 26
        },
        {
          "output_type": "display_data",
          "data": {
            "text/plain": [
              "<Figure size 720x360 with 1 Axes>"
            ],
            "image/png": "[encoded data removed]"
          },
          "metadata": {
            "needs_background": "light"
          }
        }
      ],
      "source": [
        "#After Sampling\n",
        "status_label = df_upsampled.STATUS.value_counts()\n",
        "plt.figure(figsize=(10, 5))\n",
        "sns.barplot(status_label.index, status_label);\n",
        "plt.xlabel('STATUS', fontsize=20);\n",
        "plt.ylabel('Count', fontsize=20)"
      ]
    },
    {
      "cell_type": "code",
      "execution_count": null,
      "id": "065d9d55",
      "metadata": {
        "execution": {
          "iopub.execute_input": "2022-01-17T15:16:10.062049Z",
          "iopub.status.busy": "2022-01-17T15:16:10.061379Z",
          "iopub.status.idle": "2022-01-17T15:16:10.494419Z",
          "shell.execute_reply": "2022-01-17T15:16:10.493693Z",
          "shell.execute_reply.started": "2022-01-17T15:14:50.000848Z"
        },
        "id": "065d9d55",
        "outputId": "8f3767ed-26f3-4132-e744-96720761d712",
        "papermill": {
          "duration": 0.527803,
          "end_time": "2022-01-17T15:16:10.494570",
          "exception": false,
          "start_time": "2022-01-17T15:16:09.966767",
          "status": "completed"
        },
        "tags": [],
        "colab": {
          "base_uri": "https://localhost:8080/",
          "height": 354
        }
      },
      "outputs": [
        {
          "output_type": "execute_result",
          "data": {
            "text/plain": [
              "<matplotlib.axes._subplots.AxesSubplot at 0x7f80f911eb10>"
            ]
          },
          "metadata": {},
          "execution_count": 27
        },
        {
          "output_type": "display_data",
          "data": {
            "text/plain": [
              "<Figure size 720x360 with 1 Axes>"
            ],
            "image/png": "[encoded data removed]"
          },
          "metadata": {
            "needs_background": "light"
          }
        }
      ],
      "source": [
        "#Distribution of Status based on City Type\n",
        "plt.figure(figsize=(10, 5))\n",
        "sns.countplot(x=\"city_name\", hue=\"STATUS\", data=df_upsampled)"
      ]
    },
    {
      "cell_type": "code",
      "execution_count": null,
      "id": "94b0f244",
      "metadata": {
        "execution": {
          "iopub.execute_input": "2022-01-17T15:16:11.075769Z",
          "iopub.status.busy": "2022-01-17T15:16:11.075044Z",
          "iopub.status.idle": "2022-01-17T15:16:11.471218Z",
          "shell.execute_reply": "2022-01-17T15:16:11.470618Z",
          "shell.execute_reply.started": "2022-01-17T15:14:50.415943Z"
        },
        "id": "94b0f244",
        "outputId": "e270888f-1593-44a7-a576-898886313a21",
        "papermill": {
          "duration": 0.507114,
          "end_time": "2022-01-17T15:16:11.471388",
          "exception": false,
          "start_time": "2022-01-17T15:16:10.964274",
          "status": "completed"
        },
        "tags": [],
        "colab": {
          "base_uri": "https://localhost:8080/",
          "height": 356
        }
      },
      "outputs": [
        {
          "output_type": "execute_result",
          "data": {
            "text/plain": [
              "<matplotlib.axes._subplots.AxesSubplot at 0x7f80f90a1c90>"
            ]
          },
          "metadata": {},
          "execution_count": 28
        },
        {
          "output_type": "display_data",
          "data": {
            "text/plain": [
              "<Figure size 720x360 with 1 Axes>"
            ],
            "image/png": "[encoded data removed]"
          },
          "metadata": {
            "needs_background": "light"
          }
        }
      ],
      "source": [
        "#Distribution of Status based on Business Unit\n",
        "plt.figure(figsize=(10, 5))\n",
        "sns.countplot(x=\"BUSINESS_UNIT\", hue=\"STATUS\", data=df_upsampled)"
      ]
    },
    {
      "cell_type": "code",
      "execution_count": null,
      "id": "9587fc53",
      "metadata": {
        "execution": {
          "iopub.execute_input": "2022-01-17T15:16:12.039173Z",
          "iopub.status.busy": "2022-01-17T15:16:12.038112Z",
          "iopub.status.idle": "2022-01-17T15:16:12.477988Z",
          "shell.execute_reply": "2022-01-17T15:16:12.478522Z",
          "shell.execute_reply.started": "2022-01-17T15:14:50.821322Z"
        },
        "id": "9587fc53",
        "outputId": "a83f0e86-5679-4f11-c743-90d5e7432cd8",
        "papermill": {
          "duration": 0.539708,
          "end_time": "2022-01-17T15:16:12.478737",
          "exception": false,
          "start_time": "2022-01-17T15:16:11.939029",
          "status": "completed"
        },
        "tags": [],
        "colab": {
          "base_uri": "https://localhost:8080/",
          "height": 354
        }
      },
      "outputs": [
        {
          "output_type": "execute_result",
          "data": {
            "text/plain": [
              "<matplotlib.axes._subplots.AxesSubplot at 0x7f80f9010610>"
            ]
          },
          "metadata": {},
          "execution_count": 29
        },
        {
          "output_type": "display_data",
          "data": {
            "text/plain": [
              "<Figure size 720x360 with 1 Axes>"
            ],
            "image/png": "[encoded data removed]"
          },
          "metadata": {
            "needs_background": "light"
          }
        }
      ],
      "source": [
        "#Distribution of Status based on Job Title\n",
        "plt.figure(figsize=(10, 5))\n",
        "sns.countplot(x=\"job_title\", hue=\"STATUS\", data=df_upsampled)"
      ]
    },
    {
      "cell_type": "code",
      "execution_count": null,
      "id": "7182b3cc",
      "metadata": {
        "execution": {
          "iopub.execute_input": "2022-01-17T15:16:13.073156Z",
          "iopub.status.busy": "2022-01-17T15:16:13.072407Z",
          "iopub.status.idle": "2022-01-17T15:16:13.405214Z",
          "shell.execute_reply": "2022-01-17T15:16:13.405762Z",
          "shell.execute_reply.started": "2022-01-17T15:14:51.247784Z"
        },
        "id": "7182b3cc",
        "outputId": "e95a0b15-dc09-43ec-c480-8a75960364c6",
        "papermill": {
          "duration": 0.452964,
          "end_time": "2022-01-17T15:16:13.405961",
          "exception": false,
          "start_time": "2022-01-17T15:16:12.952997",
          "status": "completed"
        },
        "tags": [],
        "colab": {
          "base_uri": "https://localhost:8080/",
          "height": 350
        }
      },
      "outputs": [
        {
          "output_type": "display_data",
          "data": {
            "text/plain": [
              "<Figure size 720x360 with 1 Axes>"
            ],
            "image/png": "[encoded data removed]"
          },
          "metadata": {
            "needs_background": "light"
          }
        }
      ],
      "source": [
        "#Distribution of Status Year with respect to Status\n",
        "plt.figure(figsize=(10, 5))\n",
        "plt.hist(\"STATUS_YEAR\", data = df_upsampled[df_upsampled[\"STATUS\"] == \"ACTIVE\"], alpha = 0.5, label = \"ACTIVE\")\n",
        "plt.hist(\"STATUS_YEAR\", data = df_upsampled[df_upsampled[\"STATUS\"] == \"TERMINATED\"], alpha = 0.5, label = \"TERMINATED\")\n",
        "plt.title(\"Distribution of Status Year with respect to Status\")\n",
        "plt.xlabel(\"Status Year\")\n",
        "plt.legend(title = \"STATUS\")\n",
        "plt.show()"
      ]
    },
    {
      "cell_type": "code",
      "execution_count": null,
      "id": "f3909020",
      "metadata": {
        "execution": {
          "iopub.execute_input": "2022-01-17T15:16:13.798341Z",
          "iopub.status.busy": "2022-01-17T15:16:13.797544Z",
          "iopub.status.idle": "2022-01-17T15:16:14.123990Z",
          "shell.execute_reply": "2022-01-17T15:16:14.124447Z",
          "shell.execute_reply.started": "2022-01-17T15:14:51.606634Z"
        },
        "id": "f3909020",
        "outputId": "d23305e0-785c-43e4-88d8-b1e9f4d440c2",
        "papermill": {
          "duration": 0.427837,
          "end_time": "2022-01-17T15:16:14.124643",
          "exception": false,
          "start_time": "2022-01-17T15:16:13.696806",
          "status": "completed"
        },
        "tags": []
      },
      "outputs": [
        {
          "data": {
            "image/png": "[encoded data removed]",
            "text/plain": [
              "<Figure size 720x360 with 1 Axes>"
            ]
          },
          "metadata": {
            "needs_background": "light"
          },
          "output_type": "display_data"
        }
      ],
      "source": [
        "#Distribution of Length of Service with respect to Status\n",
        "plt.figure(figsize=(10, 5))\n",
        "plt.hist(\"length_of_service\", data = df_upsampled[df_upsampled[\"STATUS\"] == \"ACTIVE\"], alpha = 0.5, label = \"ACTIVE\")\n",
        "plt.hist(\"length_of_service\", data = df_upsampled[df_upsampled[\"STATUS\"] == \"TERMINATED\"], alpha = 0.5, label = \"TERMINATED\")\n",
        "plt.title(\"Distribution of Length of Service with respect to Status\")\n",
        "plt.xlabel(\"Length of Service\")\n",
        "plt.legend(title = \"STATUS\")\n",
        "plt.show()"
      ]
    },
    {
      "cell_type": "code",
      "execution_count": null,
      "id": "20fbcc67",
      "metadata": {
        "execution": {
          "iopub.execute_input": "2022-01-17T15:16:14.535172Z",
          "iopub.status.busy": "2022-01-17T15:16:14.515943Z",
          "iopub.status.idle": "2022-01-17T15:16:14.828748Z",
          "shell.execute_reply": "2022-01-17T15:16:14.827861Z",
          "shell.execute_reply.started": "2022-01-17T15:14:51.926476Z"
        },
        "id": "20fbcc67",
        "outputId": "c6246256-7109-427a-ce11-5bcf163fce6d",
        "papermill": {
          "duration": 0.417133,
          "end_time": "2022-01-17T15:16:14.828919",
          "exception": false,
          "start_time": "2022-01-17T15:16:14.411786",
          "status": "completed"
        },
        "tags": []
      },
      "outputs": [
        {
          "data": {
            "image/png": "[encoded data removed]",
            "text/plain": [
              "<Figure size 720x360 with 1 Axes>"
            ]
          },
          "metadata": {
            "needs_background": "light"
          },
          "output_type": "display_data"
        }
      ],
      "source": [
        "#Distribution of Age with respect to Status\n",
        "plt.figure(figsize=(10, 5))\n",
        "plt.hist(\"age\", data = df_upsampled[df_upsampled[\"STATUS\"] == \"ACTIVE\"], alpha = 0.5, label = \"ACTIVE\")\n",
        "plt.hist(\"age\", data = df_upsampled[df_upsampled[\"STATUS\"] == \"TERMINATED\"], alpha = 0.5, label = \"TERMINATED\")\n",
        "plt.title(\"Distribution of Age with respect to Status\")\n",
        "plt.xlabel(\"Age\")\n",
        "plt.legend(title = \"STATUS\")\n",
        "plt.show()"
      ]
    },
    {
      "cell_type": "code",
      "execution_count": null,
      "id": "841fbf31",
      "metadata": {
        "execution": {
          "iopub.execute_input": "2022-01-17T15:16:15.228799Z",
          "iopub.status.busy": "2022-01-17T15:16:15.228102Z",
          "iopub.status.idle": "2022-01-17T15:16:18.116880Z",
          "shell.execute_reply": "2022-01-17T15:16:18.116328Z",
          "shell.execute_reply.started": "2022-01-17T15:14:52.250281Z"
        },
        "id": "841fbf31",
        "outputId": "29c76b25-ab0a-4c02-d400-77fd9c5e1e1a",
        "papermill": {
          "duration": 2.993201,
          "end_time": "2022-01-17T15:16:18.117035",
          "exception": false,
          "start_time": "2022-01-17T15:16:15.123834",
          "status": "completed"
        },
        "tags": [],
        "colab": {
          "base_uri": "https://localhost:8080/",
          "height": 1000
        }
      },
      "outputs": [
        {
          "output_type": "stream",
          "name": "stderr",
          "text": [
            "/usr/local/lib/python3.7/dist-packages/seaborn/distributions.py:2619: FutureWarning: `distplot` is a deprecated function and will be removed in a future version. Please adapt your code to use either `displot` (a figure-level function with similar flexibility) or `histplot` (an axes-level function for histograms).\n",
            "  warnings.warn(msg, FutureWarning)\n",
            "/usr/local/lib/python3.7/dist-packages/seaborn/distributions.py:2619: FutureWarning: `distplot` is a deprecated function and will be removed in a future version. Please adapt your code to use either `displot` (a figure-level function with similar flexibility) or `histplot` (an axes-level function for histograms).\n",
            "  warnings.warn(msg, FutureWarning)\n",
            "/usr/local/lib/python3.7/dist-packages/seaborn/distributions.py:2619: FutureWarning: `distplot` is a deprecated function and will be removed in a future version. Please adapt your code to use either `displot` (a figure-level function with similar flexibility) or `histplot` (an axes-level function for histograms).\n",
            "  warnings.warn(msg, FutureWarning)\n",
            "/usr/local/lib/python3.7/dist-packages/seaborn/distributions.py:2619: FutureWarning: `distplot` is a deprecated function and will be removed in a future version. Please adapt your code to use either `displot` (a figure-level function with similar flexibility) or `histplot` (an axes-level function for histograms).\n",
            "  warnings.warn(msg, FutureWarning)\n"
          ]
        },
        {
          "output_type": "display_data",
          "data": {
            "text/plain": [
              "<Figure size 720x360 with 1 Axes>"
            ],
            "image/png": "[encoded data removed]"
          },
          "metadata": {
            "needs_background": "light"
          }
        },
        {
          "output_type": "display_data",
          "data": {
            "text/plain": [
              "<Figure size 720x360 with 1 Axes>"
            ],
            "image/png": "[encoded data removed]"
          },
          "metadata": {
            "needs_background": "light"
          }
        },
        {
          "output_type": "display_data",
          "data": {
            "text/plain": [
              "<Figure size 720x360 with 1 Axes>"
            ],
            "image/png": "[encoded data removed]"
          },
          "metadata": {
            "needs_background": "light"
          }
        },
        {
          "output_type": "display_data",
          "data": {
            "text/plain": [
              "<Figure size 720x360 with 1 Axes>"
            ],
            "image/png": "[encoded data removed]"
          },
          "metadata": {
            "needs_background": "light"
          }
        }
      ],
      "source": [
        "#Distribution Plot\n",
        "for column in ['store_name', 'STATUS_YEAR', 'length_of_service', 'age']:\n",
        "    plt.figure(figsize=(10, 5))\n",
        "    sns.distplot(df_upsampled[column], color = '#32384D', label = 'terminated',  kde = True)\n",
        "    plt.title(column, size = 14)"
      ]
    },
    {
      "cell_type": "code",
      "execution_count": null,
      "id": "3d5a9495",
      "metadata": {
        "execution": {
          "iopub.execute_input": "2022-01-17T15:16:18.550392Z",
          "iopub.status.busy": "2022-01-17T15:16:18.549437Z",
          "iopub.status.idle": "2022-01-17T15:16:18.553820Z",
          "shell.execute_reply": "2022-01-17T15:16:18.554427Z",
          "shell.execute_reply.started": "2022-01-17T15:14:55.093833Z"
        },
        "id": "3d5a9495",
        "outputId": "17ac3d9a-31a5-4163-ead9-a0a686b3a85c",
        "papermill": {
          "duration": 0.130973,
          "end_time": "2022-01-17T15:16:18.554598",
          "exception": false,
          "start_time": "2022-01-17T15:16:18.423625",
          "status": "completed"
        },
        "tags": [],
        "colab": {
          "base_uri": "https://localhost:8080/",
          "height": 270
        }
      },
      "outputs": [
        {
          "output_type": "execute_result",
          "data": {
            "text/plain": [
              "  orighiredate_key terminationdate_key  age  length_of_service city_name  \\\n",
              "0        8/28/1989            1/1/1900   52                 17      mega   \n",
              "1        8/28/1989            1/1/1900   53                 18      mega   \n",
              "2        8/28/1989            1/1/1900   54                 19      mega   \n",
              "3        8/28/1989            1/1/1900   55                 20      mega   \n",
              "4        8/28/1989            1/1/1900   56                 21      mega   \n",
              "\n",
              "  department_name job_title  store_name gender_short termreason_desc  \\\n",
              "0       Executive     board          35            M  Not Applicable   \n",
              "1       Executive     board          35            M  Not Applicable   \n",
              "2       Executive     board          35            M  Not Applicable   \n",
              "3       Executive     board          35            M  Not Applicable   \n",
              "4       Executive     board          35            M  Not Applicable   \n",
              "\n",
              "    termtype_desc  STATUS_YEAR  STATUS BUSINESS_UNIT  \n",
              "0  Not Applicable         2006  ACTIVE    HEADOFFICE  \n",
              "1  Not Applicable         2007  ACTIVE    HEADOFFICE  \n",
              "2  Not Applicable         2008  ACTIVE    HEADOFFICE  \n",
              "3  Not Applicable         2009  ACTIVE    HEADOFFICE  \n",
              "4  Not Applicable         2010  ACTIVE    HEADOFFICE  "
            ],
            "text/html": [
              "\n",
              "  <div id=\"df-b94da021-533d-4134-9060-2bcef0014340\">\n",
              "    <div class=\"colab-df-container\">\n",
              "      <div>\n",
              "<style scoped>\n",
              "    .dataframe tbody tr th:only-of-type {\n",
              "        vertical-align: middle;\n",
              "    }\n",
              "\n",
              "    .dataframe tbody tr th {\n",
              "        vertical-align: top;\n",
              "    }\n",
              "\n",
              "    .dataframe thead th {\n",
              "        text-align: right;\n",
              "    }\n",
              "</style>\n",
              "<table border=\"1\" class=\"dataframe\">\n",
              "  <thead>\n",
              "    <tr style=\"text-align: right;\">\n",
              "      <th></th>\n",
              "      <th>orighiredate_key</th>\n",
              "      <th>terminationdate_key</th>\n",
              "      <th>age</th>\n",
              "      <th>length_of_service</th>\n",
              "      <th>city_name</th>\n",
              "      <th>department_name</th>\n",
              "      <th>job_title</th>\n",
              "      <th>store_name</th>\n",
              "      <th>gender_short</th>\n",
              "      <th>termreason_desc</th>\n",
              "      <th>termtype_desc</th>\n",
              "      <th>STATUS_YEAR</th>\n",
              "      <th>STATUS</th>\n",
              "      <th>BUSINESS_UNIT</th>\n",
              "    </tr>\n",
              "  </thead>\n",
              "  <tbody>\n",
              "    <tr>\n",
              "      <th>0</th>\n",
              "      <td>8/28/1989</td>\n",
              "      <td>1/1/1900</td>\n",
              "      <td>52</td>\n",
              "      <td>17</td>\n",
              "      <td>mega</td>\n",
              "      <td>Executive</td>\n",
              "      <td>board</td>\n",
              "      <td>35</td>\n",
              "      <td>M</td>\n",
              "      <td>Not Applicable</td>\n",
              "      <td>Not Applicable</td>\n",
              "      <td>2006</td>\n",
              "      <td>ACTIVE</td>\n",
              "      <td>HEADOFFICE</td>\n",
              "    </tr>\n",
              "    <tr>\n",
              "      <th>1</th>\n",
              "      <td>8/28/1989</td>\n",
              "      <td>1/1/1900</td>\n",
              "      <td>53</td>\n",
              "      <td>18</td>\n",
              "      <td>mega</td>\n",
              "      <td>Executive</td>\n",
              "      <td>board</td>\n",
              "      <td>35</td>\n",
              "      <td>M</td>\n",
              "      <td>Not Applicable</td>\n",
              "      <td>Not Applicable</td>\n",
              "      <td>2007</td>\n",
              "      <td>ACTIVE</td>\n",
              "      <td>HEADOFFICE</td>\n",
              "    </tr>\n",
              "    <tr>\n",
              "      <th>2</th>\n",
              "      <td>8/28/1989</td>\n",
              "      <td>1/1/1900</td>\n",
              "      <td>54</td>\n",
              "      <td>19</td>\n",
              "      <td>mega</td>\n",
              "      <td>Executive</td>\n",
              "      <td>board</td>\n",
              "      <td>35</td>\n",
              "      <td>M</td>\n",
              "      <td>Not Applicable</td>\n",
              "      <td>Not Applicable</td>\n",
              "      <td>2008</td>\n",
              "      <td>ACTIVE</td>\n",
              "      <td>HEADOFFICE</td>\n",
              "    </tr>\n",
              "    <tr>\n",
              "      <th>3</th>\n",
              "      <td>8/28/1989</td>\n",
              "      <td>1/1/1900</td>\n",
              "      <td>55</td>\n",
              "      <td>20</td>\n",
              "      <td>mega</td>\n",
              "      <td>Executive</td>\n",
              "      <td>board</td>\n",
              "      <td>35</td>\n",
              "      <td>M</td>\n",
              "      <td>Not Applicable</td>\n",
              "      <td>Not Applicable</td>\n",
              "      <td>2009</td>\n",
              "      <td>ACTIVE</td>\n",
              "      <td>HEADOFFICE</td>\n",
              "    </tr>\n",
              "    <tr>\n",
              "      <th>4</th>\n",
              "      <td>8/28/1989</td>\n",
              "      <td>1/1/1900</td>\n",
              "      <td>56</td>\n",
              "      <td>21</td>\n",
              "      <td>mega</td>\n",
              "      <td>Executive</td>\n",
              "      <td>board</td>\n",
              "      <td>35</td>\n",
              "      <td>M</td>\n",
              "      <td>Not Applicable</td>\n",
              "      <td>Not Applicable</td>\n",
              "      <td>2010</td>\n",
              "      <td>ACTIVE</td>\n",
              "      <td>HEADOFFICE</td>\n",
              "    </tr>\n",
              "  </tbody>\n",
              "</table>\n",
              "</div>\n",
              "      <button class=\"colab-df-convert\" onclick=\"convertToInteractive('df-b94da021-533d-4134-9060-2bcef0014340')\"\n",
              "              title=\"Convert this dataframe to an interactive table.\"\n",
              "              style=\"display:none;\">\n",
              "        \n",
              "  <svg xmlns=\"http://www.w3.org/2000/svg\" height=\"24px\"viewBox=\"0 0 24 24\"\n",
              "       width=\"24px\">\n",
              "    <path d=\"M0 0h24v24H0V0z\" fill=\"none\"/>\n",
              "    <path d=\"M18.56 5.44l.94 2.06.94-2.06 2.06-.94-2.06-.94-.94-2.06-.94 2.06-2.06.94zm-11 1L8.5 8.5l.94-2.06 2.06-.94-2.06-.94L8.5 2.5l-.94 2.06-2.06.94zm10 10l.94 2.06.94-2.06 2.06-.94-2.06-.94-.94-2.06-.94 2.06-2.06.94z\"/><path d=\"M17.41 7.96l-1.37-1.37c-.4-.4-.92-.59-1.43-.59-.52 0-1.04.2-1.43.59L10.3 9.45l-7.72 7.72c-.78.78-.78 2.05 0 2.83L4 21.41c.39.39.9.59 1.41.59.51 0 1.02-.2 1.41-.59l7.78-7.78 2.81-2.81c.8-.78.8-2.07 0-2.86zM5.41 20L4 18.59l7.72-7.72 1.47 1.35L5.41 20z\"/>\n",
              "  </svg>\n",
              "      </button>\n",
              "      \n",
              "  <style>\n",
              "    .colab-df-container {\n",
              "      display:flex;\n",
              "      flex-wrap:wrap;\n",
              "      gap: 12px;\n",
              "    }\n",
              "\n",
              "    .colab-df-convert {\n",
              "      background-color: #E8F0FE;\n",
              "      border: none;\n",
              "      border-radius: 50%;\n",
              "      cursor: pointer;\n",
              "      display: none;\n",
              "      fill: #1967D2;\n",
              "      height: 32px;\n",
              "      padding: 0 0 0 0;\n",
              "      width: 32px;\n",
              "    }\n",
              "\n",
              "    .colab-df-convert:hover {\n",
              "      background-color: #E2EBFA;\n",
              "      box-shadow: 0px 1px 2px rgba(60, 64, 67, 0.3), 0px 1px 3px 1px rgba(60, 64, 67, 0.15);\n",
              "      fill: #174EA6;\n",
              "    }\n",
              "\n",
              "    [theme=dark] .colab-df-convert {\n",
              "      background-color: #3B4455;\n",
              "      fill: #D2E3FC;\n",
              "    }\n",
              "\n",
              "    [theme=dark] .colab-df-convert:hover {\n",
              "      background-color: #434B5C;\n",
              "      box-shadow: 0px 1px 3px 1px rgba(0, 0, 0, 0.15);\n",
              "      filter: drop-shadow(0px 1px 2px rgba(0, 0, 0, 0.3));\n",
              "      fill: #FFFFFF;\n",
              "    }\n",
              "  </style>\n",
              "\n",
              "      <script>\n",
              "        const buttonEl =\n",
              "          document.querySelector('#df-b94da021-533d-4134-9060-2bcef0014340 button.colab-df-convert');\n",
              "        buttonEl.style.display =\n",
              "          google.colab.kernel.accessAllowed ? 'block' : 'none';\n",
              "\n",
              "        async function convertToInteractive(key) {\n",
              "          const element = document.querySelector('#df-b94da021-533d-4134-9060-2bcef0014340');\n",
              "          const dataTable =\n",
              "            await google.colab.kernel.invokeFunction('convertToInteractive',\n",
              "                                                     [key], {});\n",
              "          if (!dataTable) return;\n",
              "\n",
              "          const docLinkHtml = 'Like what you see? Visit the ' +\n",
              "            '<a target=\"_blank\" href=https://colab.research.google.com/notebooks/data_table.ipynb>data table notebook</a>'\n",
              "            + ' to learn more about interactive tables.';\n",
              "          element.innerHTML = '';\n",
              "          dataTable['output_type'] = 'display_data';\n",
              "          await google.colab.output.renderOutput(dataTable, element);\n",
              "          const docLink = document.createElement('div');\n",
              "          docLink.innerHTML = docLinkHtml;\n",
              "          element.appendChild(docLink);\n",
              "        }\n",
              "      </script>\n",
              "    </div>\n",
              "  </div>\n",
              "  "
            ]
          },
          "metadata": {},
          "execution_count": 33
        }
      ],
      "source": [
        "df_upsampled.head()"
      ]
    },
    {
      "cell_type": "code",
      "execution_count": null,
      "id": "583202ca",
      "metadata": {
        "execution": {
          "iopub.execute_input": "2022-01-17T15:16:19.000864Z",
          "iopub.status.busy": "2022-01-17T15:16:18.999930Z",
          "iopub.status.idle": "2022-01-17T15:16:19.023015Z",
          "shell.execute_reply": "2022-01-17T15:16:19.023527Z",
          "shell.execute_reply.started": "2022-01-17T15:14:55.113945Z"
        },
        "id": "583202ca",
        "papermill": {
          "duration": 0.138081,
          "end_time": "2022-01-17T15:16:19.023719",
          "exception": false,
          "start_time": "2022-01-17T15:16:18.885638",
          "status": "completed"
        },
        "tags": []
      },
      "outputs": [],
      "source": [
        "#City Name\n",
        "city_name_label = {value: key for key, value in enumerate(df_upsampled['city_name'].unique())}\n",
        "df_upsampled['city_name'] = df_upsampled['city_name'].map(city_name_label)"
      ]
    },
    {
      "cell_type": "code",
      "execution_count": null,
      "id": "3daff4b1",
      "metadata": {
        "execution": {
          "iopub.execute_input": "2022-01-17T15:16:19.439811Z",
          "iopub.status.busy": "2022-01-17T15:16:19.438819Z",
          "iopub.status.idle": "2022-01-17T15:16:19.477125Z",
          "shell.execute_reply": "2022-01-17T15:16:19.476518Z",
          "shell.execute_reply.started": "2022-01-17T15:14:55.147862Z"
        },
        "id": "3daff4b1",
        "papermill": {
          "duration": 0.145305,
          "end_time": "2022-01-17T15:16:19.477282",
          "exception": false,
          "start_time": "2022-01-17T15:16:19.331977",
          "status": "completed"
        },
        "tags": []
      },
      "outputs": [],
      "source": [
        "#Department Name\n",
        "department_name_label = {value: key for key, value in enumerate(df_upsampled['department_name'].unique())}\n",
        "df_upsampled['department_name'] = df_upsampled['department_name'].map(department_name_label)"
      ]
    },
    {
      "cell_type": "code",
      "execution_count": null,
      "id": "87b5bc60",
      "metadata": {
        "execution": {
          "iopub.execute_input": "2022-01-17T15:16:19.905512Z",
          "iopub.status.busy": "2022-01-17T15:16:19.896218Z",
          "iopub.status.idle": "2022-01-17T15:16:19.923868Z",
          "shell.execute_reply": "2022-01-17T15:16:19.923191Z",
          "shell.execute_reply.started": "2022-01-17T15:14:55.187375Z"
        },
        "id": "87b5bc60",
        "papermill": {
          "duration": 0.133839,
          "end_time": "2022-01-17T15:16:19.924022",
          "exception": false,
          "start_time": "2022-01-17T15:16:19.790183",
          "status": "completed"
        },
        "tags": []
      },
      "outputs": [],
      "source": [
        "#Job Title\n",
        "job_title_label = {value: key for key, value in enumerate(df_upsampled['job_title'].unique())}\n",
        "df_upsampled['job_title'] = df_upsampled['job_title'].map(job_title_label)"
      ]
    },
    {
      "cell_type": "code",
      "execution_count": null,
      "id": "b6f413a2",
      "metadata": {
        "execution": {
          "iopub.execute_input": "2022-01-17T15:16:20.354010Z",
          "iopub.status.busy": "2022-01-17T15:16:20.353267Z",
          "iopub.status.idle": "2022-01-17T15:16:20.368633Z",
          "shell.execute_reply": "2022-01-17T15:16:20.367852Z",
          "shell.execute_reply.started": "2022-01-17T15:14:55.213938Z"
        },
        "id": "b6f413a2",
        "papermill": {
          "duration": 0.131367,
          "end_time": "2022-01-17T15:16:20.368818",
          "exception": false,
          "start_time": "2022-01-17T15:16:20.237451",
          "status": "completed"
        },
        "tags": []
      },
      "outputs": [],
      "source": [
        "#Gender\n",
        "gender_short_label = {value: key for key, value in enumerate(df_upsampled['gender_short'].unique())}\n",
        "df_upsampled['gender_short'] = df_upsampled['gender_short'].map(gender_short_label)"
      ]
    },
    {
      "cell_type": "code",
      "execution_count": null,
      "id": "821cdd10",
      "metadata": {
        "execution": {
          "iopub.execute_input": "2022-01-17T15:16:20.798128Z",
          "iopub.status.busy": "2022-01-17T15:16:20.797416Z",
          "iopub.status.idle": "2022-01-17T15:16:20.813371Z",
          "shell.execute_reply": "2022-01-17T15:16:20.813992Z",
          "shell.execute_reply.started": "2022-01-17T15:14:55.242360Z"
        },
        "id": "821cdd10",
        "papermill": {
          "duration": 0.134027,
          "end_time": "2022-01-17T15:16:20.814204",
          "exception": false,
          "start_time": "2022-01-17T15:16:20.680177",
          "status": "completed"
        },
        "tags": []
      },
      "outputs": [],
      "source": [
        "#Reason for Termination\n",
        "term_desc_label = {value: key for key, value in enumerate(df_upsampled['termreason_desc'].unique())}\n",
        "df_upsampled['termreason_desc'] = df_upsampled['termreason_desc'].map(term_desc_label)"
      ]
    },
    {
      "cell_type": "code",
      "execution_count": null,
      "id": "4057c043",
      "metadata": {
        "execution": {
          "iopub.execute_input": "2022-01-17T15:16:21.247065Z",
          "iopub.status.busy": "2022-01-17T15:16:21.246100Z",
          "iopub.status.idle": "2022-01-17T15:16:21.263060Z",
          "shell.execute_reply": "2022-01-17T15:16:21.263594Z",
          "shell.execute_reply.started": "2022-01-17T15:14:55.270076Z"
        },
        "id": "4057c043",
        "papermill": {
          "duration": 0.134018,
          "end_time": "2022-01-17T15:16:21.263812",
          "exception": false,
          "start_time": "2022-01-17T15:16:21.129794",
          "status": "completed"
        },
        "tags": []
      },
      "outputs": [],
      "source": [
        "#Type of Termination\n",
        "termtype_desc_label = {value: key for key, value in enumerate(df_upsampled['termtype_desc'].unique())}\n",
        "df_upsampled['termtype_desc'] = df_upsampled['termtype_desc'].map(termtype_desc_label)"
      ]
    },
    {
      "cell_type": "code",
      "execution_count": null,
      "id": "42b2c5c4",
      "metadata": {
        "execution": {
          "iopub.execute_input": "2022-01-17T15:16:21.683059Z",
          "iopub.status.busy": "2022-01-17T15:16:21.681994Z",
          "iopub.status.idle": "2022-01-17T15:16:21.707568Z",
          "shell.execute_reply": "2022-01-17T15:16:21.708146Z",
          "shell.execute_reply.started": "2022-01-17T15:14:55.295981Z"
        },
        "id": "42b2c5c4",
        "papermill": {
          "duration": 0.133796,
          "end_time": "2022-01-17T15:16:21.708356",
          "exception": false,
          "start_time": "2022-01-17T15:16:21.574560",
          "status": "completed"
        },
        "tags": []
      },
      "outputs": [],
      "source": [
        "#Status\n",
        "status_label = {value: key for key, value in enumerate(df_upsampled['STATUS'].unique())}\n",
        "df_upsampled['STATUS'] = df_upsampled['STATUS'].map(status_label)"
      ]
    },
    {
      "cell_type": "code",
      "execution_count": null,
      "id": "d829e88b",
      "metadata": {
        "execution": {
          "iopub.execute_input": "2022-01-17T15:16:22.136637Z",
          "iopub.status.busy": "2022-01-17T15:16:22.135559Z",
          "iopub.status.idle": "2022-01-17T15:16:22.161233Z",
          "shell.execute_reply": "2022-01-17T15:16:22.161822Z",
          "shell.execute_reply.started": "2022-01-17T15:14:55.322762Z"
        },
        "id": "d829e88b",
        "papermill": {
          "duration": 0.140127,
          "end_time": "2022-01-17T15:16:22.162036",
          "exception": false,
          "start_time": "2022-01-17T15:16:22.021909",
          "status": "completed"
        },
        "tags": []
      },
      "outputs": [],
      "source": [
        "#Business Unit\n",
        "business_label = {value: key for key, value in enumerate(df_upsampled['BUSINESS_UNIT'].unique())}\n",
        "df_upsampled['BUSINESS_UNIT'] = df_upsampled['BUSINESS_UNIT'].map(business_label)"
      ]
    },
    {
      "cell_type": "code",
      "execution_count": null,
      "id": "90010d0d",
      "metadata": {
        "execution": {
          "iopub.execute_input": "2022-01-17T15:16:22.375809Z",
          "iopub.status.busy": "2022-01-17T15:16:22.374825Z",
          "iopub.status.idle": "2022-01-17T15:16:22.389363Z",
          "shell.execute_reply": "2022-01-17T15:16:22.389948Z",
          "shell.execute_reply.started": "2022-01-17T15:14:55.355714Z"
        },
        "id": "90010d0d",
        "outputId": "6ef76ab9-e45b-444a-9de6-5ddff5ecf20f",
        "papermill": {
          "duration": 0.123816,
          "end_time": "2022-01-17T15:16:22.390157",
          "exception": false,
          "start_time": "2022-01-17T15:16:22.266341",
          "status": "completed"
        },
        "tags": [],
        "colab": {
          "base_uri": "https://localhost:8080/",
          "height": 270
        }
      },
      "outputs": [
        {
          "output_type": "execute_result",
          "data": {
            "text/plain": [
              "  orighiredate_key terminationdate_key  age  length_of_service  city_name  \\\n",
              "0        8/28/1989            1/1/1900   52                 17          0   \n",
              "1        8/28/1989            1/1/1900   53                 18          0   \n",
              "2        8/28/1989            1/1/1900   54                 19          0   \n",
              "3        8/28/1989            1/1/1900   55                 20          0   \n",
              "4        8/28/1989            1/1/1900   56                 21          0   \n",
              "\n",
              "   department_name  job_title  store_name  gender_short  termreason_desc  \\\n",
              "0                0          0          35             0                0   \n",
              "1                0          0          35             0                0   \n",
              "2                0          0          35             0                0   \n",
              "3                0          0          35             0                0   \n",
              "4                0          0          35             0                0   \n",
              "\n",
              "   termtype_desc  STATUS_YEAR  STATUS  BUSINESS_UNIT  \n",
              "0              0         2006       0              0  \n",
              "1              0         2007       0              0  \n",
              "2              0         2008       0              0  \n",
              "3              0         2009       0              0  \n",
              "4              0         2010       0              0  "
            ],
            "text/html": [
              "\n",
              "  <div id=\"df-10c882c0-b8ba-48cc-a52d-48724f282a6c\">\n",
              "    <div class=\"colab-df-container\">\n",
              "      <div>\n",
              "<style scoped>\n",
              "    .dataframe tbody tr th:only-of-type {\n",
              "        vertical-align: middle;\n",
              "    }\n",
              "\n",
              "    .dataframe tbody tr th {\n",
              "        vertical-align: top;\n",
              "    }\n",
              "\n",
              "    .dataframe thead th {\n",
              "        text-align: right;\n",
              "    }\n",
              "</style>\n",
              "<table border=\"1\" class=\"dataframe\">\n",
              "  <thead>\n",
              "    <tr style=\"text-align: right;\">\n",
              "      <th></th>\n",
              "      <th>orighiredate_key</th>\n",
              "      <th>terminationdate_key</th>\n",
              "      <th>age</th>\n",
              "      <th>length_of_service</th>\n",
              "      <th>city_name</th>\n",
              "      <th>department_name</th>\n",
              "      <th>job_title</th>\n",
              "      <th>store_name</th>\n",
              "      <th>gender_short</th>\n",
              "      <th>termreason_desc</th>\n",
              "      <th>termtype_desc</th>\n",
              "      <th>STATUS_YEAR</th>\n",
              "      <th>STATUS</th>\n",
              "      <th>BUSINESS_UNIT</th>\n",
              "    </tr>\n",
              "  </thead>\n",
              "  <tbody>\n",
              "    <tr>\n",
              "      <th>0</th>\n",
              "      <td>8/28/1989</td>\n",
              "      <td>1/1/1900</td>\n",
              "      <td>52</td>\n",
              "      <td>17</td>\n",
              "      <td>0</td>\n",
              "      <td>0</td>\n",
              "      <td>0</td>\n",
              "      <td>35</td>\n",
              "      <td>0</td>\n",
              "      <td>0</td>\n",
              "      <td>0</td>\n",
              "      <td>2006</td>\n",
              "      <td>0</td>\n",
              "      <td>0</td>\n",
              "    </tr>\n",
              "    <tr>\n",
              "      <th>1</th>\n",
              "      <td>8/28/1989</td>\n",
              "      <td>1/1/1900</td>\n",
              "      <td>53</td>\n",
              "      <td>18</td>\n",
              "      <td>0</td>\n",
              "      <td>0</td>\n",
              "      <td>0</td>\n",
              "      <td>35</td>\n",
              "      <td>0</td>\n",
              "      <td>0</td>\n",
              "      <td>0</td>\n",
              "      <td>2007</td>\n",
              "      <td>0</td>\n",
              "      <td>0</td>\n",
              "    </tr>\n",
              "    <tr>\n",
              "      <th>2</th>\n",
              "      <td>8/28/1989</td>\n",
              "      <td>1/1/1900</td>\n",
              "      <td>54</td>\n",
              "      <td>19</td>\n",
              "      <td>0</td>\n",
              "      <td>0</td>\n",
              "      <td>0</td>\n",
              "      <td>35</td>\n",
              "      <td>0</td>\n",
              "      <td>0</td>\n",
              "      <td>0</td>\n",
              "      <td>2008</td>\n",
              "      <td>0</td>\n",
              "      <td>0</td>\n",
              "    </tr>\n",
              "    <tr>\n",
              "      <th>3</th>\n",
              "      <td>8/28/1989</td>\n",
              "      <td>1/1/1900</td>\n",
              "      <td>55</td>\n",
              "      <td>20</td>\n",
              "      <td>0</td>\n",
              "      <td>0</td>\n",
              "      <td>0</td>\n",
              "      <td>35</td>\n",
              "      <td>0</td>\n",
              "      <td>0</td>\n",
              "      <td>0</td>\n",
              "      <td>2009</td>\n",
              "      <td>0</td>\n",
              "      <td>0</td>\n",
              "    </tr>\n",
              "    <tr>\n",
              "      <th>4</th>\n",
              "      <td>8/28/1989</td>\n",
              "      <td>1/1/1900</td>\n",
              "      <td>56</td>\n",
              "      <td>21</td>\n",
              "      <td>0</td>\n",
              "      <td>0</td>\n",
              "      <td>0</td>\n",
              "      <td>35</td>\n",
              "      <td>0</td>\n",
              "      <td>0</td>\n",
              "      <td>0</td>\n",
              "      <td>2010</td>\n",
              "      <td>0</td>\n",
              "      <td>0</td>\n",
              "    </tr>\n",
              "  </tbody>\n",
              "</table>\n",
              "</div>\n",
              "      <button class=\"colab-df-convert\" onclick=\"convertToInteractive('df-10c882c0-b8ba-48cc-a52d-48724f282a6c')\"\n",
              "              title=\"Convert this dataframe to an interactive table.\"\n",
              "              style=\"display:none;\">\n",
              "        \n",
              "  <svg xmlns=\"http://www.w3.org/2000/svg\" height=\"24px\"viewBox=\"0 0 24 24\"\n",
              "       width=\"24px\">\n",
              "    <path d=\"M0 0h24v24H0V0z\" fill=\"none\"/>\n",
              "    <path d=\"M18.56 5.44l.94 2.06.94-2.06 2.06-.94-2.06-.94-.94-2.06-.94 2.06-2.06.94zm-11 1L8.5 8.5l.94-2.06 2.06-.94-2.06-.94L8.5 2.5l-.94 2.06-2.06.94zm10 10l.94 2.06.94-2.06 2.06-.94-2.06-.94-.94-2.06-.94 2.06-2.06.94z\"/><path d=\"M17.41 7.96l-1.37-1.37c-.4-.4-.92-.59-1.43-.59-.52 0-1.04.2-1.43.59L10.3 9.45l-7.72 7.72c-.78.78-.78 2.05 0 2.83L4 21.41c.39.39.9.59 1.41.59.51 0 1.02-.2 1.41-.59l7.78-7.78 2.81-2.81c.8-.78.8-2.07 0-2.86zM5.41 20L4 18.59l7.72-7.72 1.47 1.35L5.41 20z\"/>\n",
              "  </svg>\n",
              "      </button>\n",
              "      \n",
              "  <style>\n",
              "    .colab-df-container {\n",
              "      display:flex;\n",
              "      flex-wrap:wrap;\n",
              "      gap: 12px;\n",
              "    }\n",
              "\n",
              "    .colab-df-convert {\n",
              "      background-color: #E8F0FE;\n",
              "      border: none;\n",
              "      border-radius: 50%;\n",
              "      cursor: pointer;\n",
              "      display: none;\n",
              "      fill: #1967D2;\n",
              "      height: 32px;\n",
              "      padding: 0 0 0 0;\n",
              "      width: 32px;\n",
              "    }\n",
              "\n",
              "    .colab-df-convert:hover {\n",
              "      background-color: #E2EBFA;\n",
              "      box-shadow: 0px 1px 2px rgba(60, 64, 67, 0.3), 0px 1px 3px 1px rgba(60, 64, 67, 0.15);\n",
              "      fill: #174EA6;\n",
              "    }\n",
              "\n",
              "    [theme=dark] .colab-df-convert {\n",
              "      background-color: #3B4455;\n",
              "      fill: #D2E3FC;\n",
              "    }\n",
              "\n",
              "    [theme=dark] .colab-df-convert:hover {\n",
              "      background-color: #434B5C;\n",
              "      box-shadow: 0px 1px 3px 1px rgba(0, 0, 0, 0.15);\n",
              "      filter: drop-shadow(0px 1px 2px rgba(0, 0, 0, 0.3));\n",
              "      fill: #FFFFFF;\n",
              "    }\n",
              "  </style>\n",
              "\n",
              "      <script>\n",
              "        const buttonEl =\n",
              "          document.querySelector('#df-10c882c0-b8ba-48cc-a52d-48724f282a6c button.colab-df-convert');\n",
              "        buttonEl.style.display =\n",
              "          google.colab.kernel.accessAllowed ? 'block' : 'none';\n",
              "\n",
              "        async function convertToInteractive(key) {\n",
              "          const element = document.querySelector('#df-10c882c0-b8ba-48cc-a52d-48724f282a6c');\n",
              "          const dataTable =\n",
              "            await google.colab.kernel.invokeFunction('convertToInteractive',\n",
              "                                                     [key], {});\n",
              "          if (!dataTable) return;\n",
              "\n",
              "          const docLinkHtml = 'Like what you see? Visit the ' +\n",
              "            '<a target=\"_blank\" href=https://colab.research.google.com/notebooks/data_table.ipynb>data table notebook</a>'\n",
              "            + ' to learn more about interactive tables.';\n",
              "          element.innerHTML = '';\n",
              "          dataTable['output_type'] = 'display_data';\n",
              "          await google.colab.output.renderOutput(dataTable, element);\n",
              "          const docLink = document.createElement('div');\n",
              "          docLink.innerHTML = docLinkHtml;\n",
              "          element.appendChild(docLink);\n",
              "        }\n",
              "      </script>\n",
              "    </div>\n",
              "  </div>\n",
              "  "
            ]
          },
          "metadata": {},
          "execution_count": 52
        }
      ],
      "source": [
        "df_upsampled.head()"
      ]
    },
    {
      "cell_type": "code",
      "execution_count": null,
      "id": "57d595a6",
      "metadata": {
        "execution": {
          "iopub.execute_input": "2022-01-17T15:16:22.822841Z",
          "iopub.status.busy": "2022-01-17T15:16:22.821745Z",
          "iopub.status.idle": "2022-01-17T15:16:24.138370Z",
          "shell.execute_reply": "2022-01-17T15:16:24.137630Z",
          "shell.execute_reply.started": "2022-01-17T15:14:55.375132Z"
        },
        "id": "57d595a6",
        "outputId": "a6019962-2a4c-4adc-e489-dbe0d9a818df",
        "papermill": {
          "duration": 1.431626,
          "end_time": "2022-01-17T15:16:24.138524",
          "exception": false,
          "start_time": "2022-01-17T15:16:22.706898",
          "status": "completed"
        },
        "tags": [],
        "colab": {
          "base_uri": "https://localhost:8080/",
          "height": 695
        }
      },
      "outputs": [
        {
          "output_type": "display_data",
          "data": {
            "text/plain": [
              "<Figure size 1080x720 with 2 Axes>"
            ],
            "image/png": "[encoded data removed]"
          },
          "metadata": {
            "needs_background": "light"
          }
        }
      ],
      "source": [
        "#Correlation Matrix\n",
        "plt.figure(figsize=(15, 10))\n",
        "sns.heatmap(df_upsampled.corr(), annot=True);\n",
        "plt.title('Correlation Matrix', fontsize=20);"
      ]
    },
    {
      "cell_type": "code",
      "execution_count": null,
      "id": "f220c480",
      "metadata": {
        "execution": {
          "iopub.execute_input": "2022-01-17T15:16:25.109440Z",
          "iopub.status.busy": "2022-01-17T15:16:25.107554Z",
          "iopub.status.idle": "2022-01-17T15:16:25.125851Z",
          "shell.execute_reply": "2022-01-17T15:16:25.124948Z",
          "shell.execute_reply.started": "2022-01-17T15:14:56.597701Z"
        },
        "id": "f220c480",
        "papermill": {
          "duration": 0.137048,
          "end_time": "2022-01-17T15:16:25.126047",
          "exception": false,
          "start_time": "2022-01-17T15:16:24.988999",
          "status": "completed"
        },
        "tags": []
      },
      "outputs": [],
      "source": [
        "#Dropping more unimportant columns\n",
        "df_upsampled.drop(['termreason_desc', 'termtype_desc', 'orighiredate_key', 'terminationdate_key'], axis=1, inplace=True)"
      ]
    },
    {
      "cell_type": "code",
      "execution_count": null,
      "id": "6b4e71b4",
      "metadata": {
        "execution": {
          "iopub.execute_input": "2022-01-17T15:16:25.440313Z",
          "iopub.status.busy": "2022-01-17T15:16:25.439646Z",
          "iopub.status.idle": "2022-01-17T15:16:25.448736Z",
          "shell.execute_reply": "2022-01-17T15:16:25.449242Z",
          "shell.execute_reply.started": "2022-01-17T15:14:56.614325Z"
        },
        "id": "6b4e71b4",
        "outputId": "a809b4e5-cf25-4b78-ebbd-2156475b1e48",
        "papermill": {
          "duration": 0.12416,
          "end_time": "2022-01-17T15:16:25.449431",
          "exception": false,
          "start_time": "2022-01-17T15:16:25.325271",
          "status": "completed"
        },
        "tags": [],
        "colab": {
          "base_uri": "https://localhost:8080/",
          "height": 206
        }
      },
      "outputs": [
        {
          "output_type": "execute_result",
          "data": {
            "text/plain": [
              "   age  length_of_service  city_name  department_name  job_title  store_name  \\\n",
              "0   52                 17          0                0          0          35   \n",
              "1   53                 18          0                0          0          35   \n",
              "2   54                 19          0                0          0          35   \n",
              "3   55                 20          0                0          0          35   \n",
              "4   56                 21          0                0          0          35   \n",
              "\n",
              "   gender_short  STATUS_YEAR  STATUS  BUSINESS_UNIT  \n",
              "0             0         2006       0              0  \n",
              "1             0         2007       0              0  \n",
              "2             0         2008       0              0  \n",
              "3             0         2009       0              0  \n",
              "4             0         2010       0              0  "
            ],
            "text/html": [
              "\n",
              "  <div id=\"df-49e7eb95-feff-4235-b4c4-55040409af82\">\n",
              "    <div class=\"colab-df-container\">\n",
              "      <div>\n",
              "<style scoped>\n",
              "    .dataframe tbody tr th:only-of-type {\n",
              "        vertical-align: middle;\n",
              "    }\n",
              "\n",
              "    .dataframe tbody tr th {\n",
              "        vertical-align: top;\n",
              "    }\n",
              "\n",
              "    .dataframe thead th {\n",
              "        text-align: right;\n",
              "    }\n",
              "</style>\n",
              "<table border=\"1\" class=\"dataframe\">\n",
              "  <thead>\n",
              "    <tr style=\"text-align: right;\">\n",
              "      <th></th>\n",
              "      <th>age</th>\n",
              "      <th>length_of_service</th>\n",
              "      <th>city_name</th>\n",
              "      <th>department_name</th>\n",
              "      <th>job_title</th>\n",
              "      <th>store_name</th>\n",
              "      <th>gender_short</th>\n",
              "      <th>STATUS_YEAR</th>\n",
              "      <th>STATUS</th>\n",
              "      <th>BUSINESS_UNIT</th>\n",
              "    </tr>\n",
              "  </thead>\n",
              "  <tbody>\n",
              "    <tr>\n",
              "      <th>0</th>\n",
              "      <td>52</td>\n",
              "      <td>17</td>\n",
              "      <td>0</td>\n",
              "      <td>0</td>\n",
              "      <td>0</td>\n",
              "      <td>35</td>\n",
              "      <td>0</td>\n",
              "      <td>2006</td>\n",
              "      <td>0</td>\n",
              "      <td>0</td>\n",
              "    </tr>\n",
              "    <tr>\n",
              "      <th>1</th>\n",
              "      <td>53</td>\n",
              "      <td>18</td>\n",
              "      <td>0</td>\n",
              "      <td>0</td>\n",
              "      <td>0</td>\n",
              "      <td>35</td>\n",
              "      <td>0</td>\n",
              "      <td>2007</td>\n",
              "      <td>0</td>\n",
              "      <td>0</td>\n",
              "    </tr>\n",
              "    <tr>\n",
              "      <th>2</th>\n",
              "      <td>54</td>\n",
              "      <td>19</td>\n",
              "      <td>0</td>\n",
              "      <td>0</td>\n",
              "      <td>0</td>\n",
              "      <td>35</td>\n",
              "      <td>0</td>\n",
              "      <td>2008</td>\n",
              "      <td>0</td>\n",
              "      <td>0</td>\n",
              "    </tr>\n",
              "    <tr>\n",
              "      <th>3</th>\n",
              "      <td>55</td>\n",
              "      <td>20</td>\n",
              "      <td>0</td>\n",
              "      <td>0</td>\n",
              "      <td>0</td>\n",
              "      <td>35</td>\n",
              "      <td>0</td>\n",
              "      <td>2009</td>\n",
              "      <td>0</td>\n",
              "      <td>0</td>\n",
              "    </tr>\n",
              "    <tr>\n",
              "      <th>4</th>\n",
              "      <td>56</td>\n",
              "      <td>21</td>\n",
              "      <td>0</td>\n",
              "      <td>0</td>\n",
              "      <td>0</td>\n",
              "      <td>35</td>\n",
              "      <td>0</td>\n",
              "      <td>2010</td>\n",
              "      <td>0</td>\n",
              "      <td>0</td>\n",
              "    </tr>\n",
              "  </tbody>\n",
              "</table>\n",
              "</div>\n",
              "      <button class=\"colab-df-convert\" onclick=\"convertToInteractive('df-49e7eb95-feff-4235-b4c4-55040409af82')\"\n",
              "              title=\"Convert this dataframe to an interactive table.\"\n",
              "              style=\"display:none;\">\n",
              "        \n",
              "  <svg xmlns=\"http://www.w3.org/2000/svg\" height=\"24px\"viewBox=\"0 0 24 24\"\n",
              "       width=\"24px\">\n",
              "    <path d=\"M0 0h24v24H0V0z\" fill=\"none\"/>\n",
              "    <path d=\"M18.56 5.44l.94 2.06.94-2.06 2.06-.94-2.06-.94-.94-2.06-.94 2.06-2.06.94zm-11 1L8.5 8.5l.94-2.06 2.06-.94-2.06-.94L8.5 2.5l-.94 2.06-2.06.94zm10 10l.94 2.06.94-2.06 2.06-.94-2.06-.94-.94-2.06-.94 2.06-2.06.94z\"/><path d=\"M17.41 7.96l-1.37-1.37c-.4-.4-.92-.59-1.43-.59-.52 0-1.04.2-1.43.59L10.3 9.45l-7.72 7.72c-.78.78-.78 2.05 0 2.83L4 21.41c.39.39.9.59 1.41.59.51 0 1.02-.2 1.41-.59l7.78-7.78 2.81-2.81c.8-.78.8-2.07 0-2.86zM5.41 20L4 18.59l7.72-7.72 1.47 1.35L5.41 20z\"/>\n",
              "  </svg>\n",
              "      </button>\n",
              "      \n",
              "  <style>\n",
              "    .colab-df-container {\n",
              "      display:flex;\n",
              "      flex-wrap:wrap;\n",
              "      gap: 12px;\n",
              "    }\n",
              "\n",
              "    .colab-df-convert {\n",
              "      background-color: #E8F0FE;\n",
              "      border: none;\n",
              "      border-radius: 50%;\n",
              "      cursor: pointer;\n",
              "      display: none;\n",
              "      fill: #1967D2;\n",
              "      height: 32px;\n",
              "      padding: 0 0 0 0;\n",
              "      width: 32px;\n",
              "    }\n",
              "\n",
              "    .colab-df-convert:hover {\n",
              "      background-color: #E2EBFA;\n",
              "      box-shadow: 0px 1px 2px rgba(60, 64, 67, 0.3), 0px 1px 3px 1px rgba(60, 64, 67, 0.15);\n",
              "      fill: #174EA6;\n",
              "    }\n",
              "\n",
              "    [theme=dark] .colab-df-convert {\n",
              "      background-color: #3B4455;\n",
              "      fill: #D2E3FC;\n",
              "    }\n",
              "\n",
              "    [theme=dark] .colab-df-convert:hover {\n",
              "      background-color: #434B5C;\n",
              "      box-shadow: 0px 1px 3px 1px rgba(0, 0, 0, 0.15);\n",
              "      filter: drop-shadow(0px 1px 2px rgba(0, 0, 0, 0.3));\n",
              "      fill: #FFFFFF;\n",
              "    }\n",
              "  </style>\n",
              "\n",
              "      <script>\n",
              "        const buttonEl =\n",
              "          document.querySelector('#df-49e7eb95-feff-4235-b4c4-55040409af82 button.colab-df-convert');\n",
              "        buttonEl.style.display =\n",
              "          google.colab.kernel.accessAllowed ? 'block' : 'none';\n",
              "\n",
              "        async function convertToInteractive(key) {\n",
              "          const element = document.querySelector('#df-49e7eb95-feff-4235-b4c4-55040409af82');\n",
              "          const dataTable =\n",
              "            await google.colab.kernel.invokeFunction('convertToInteractive',\n",
              "                                                     [key], {});\n",
              "          if (!dataTable) return;\n",
              "\n",
              "          const docLinkHtml = 'Like what you see? Visit the ' +\n",
              "            '<a target=\"_blank\" href=https://colab.research.google.com/notebooks/data_table.ipynb>data table notebook</a>'\n",
              "            + ' to learn more about interactive tables.';\n",
              "          element.innerHTML = '';\n",
              "          dataTable['output_type'] = 'display_data';\n",
              "          await google.colab.output.renderOutput(dataTable, element);\n",
              "          const docLink = document.createElement('div');\n",
              "          docLink.innerHTML = docLinkHtml;\n",
              "          element.appendChild(docLink);\n",
              "        }\n",
              "      </script>\n",
              "    </div>\n",
              "  </div>\n",
              "  "
            ]
          },
          "metadata": {},
          "execution_count": 55
        }
      ],
      "source": [
        "df_upsampled.head()"
      ]
    },
    {
      "cell_type": "code",
      "execution_count": null,
      "id": "9cbc6898",
      "metadata": {
        "execution": {
          "iopub.execute_input": "2022-01-17T15:16:26.326479Z",
          "iopub.status.busy": "2022-01-17T15:16:26.325656Z",
          "iopub.status.idle": "2022-01-17T15:16:26.704866Z",
          "shell.execute_reply": "2022-01-17T15:16:26.704235Z",
          "shell.execute_reply.started": "2022-01-17T15:14:56.628142Z"
        },
        "id": "9cbc6898",
        "papermill": {
          "duration": 0.494205,
          "end_time": "2022-01-17T15:16:26.705020",
          "exception": false,
          "start_time": "2022-01-17T15:16:26.210815",
          "status": "completed"
        },
        "tags": []
      },
      "outputs": [],
      "source": [
        "from sklearn.model_selection import train_test_split\n",
        "from sklearn.linear_model import LogisticRegression\n",
        "from sklearn.neighbors import KNeighborsClassifier\n",
        "from sklearn.ensemble import RandomForestClassifier\n",
        "from sklearn.ensemble import GradientBoostingClassifier\n",
        "import xgboost as xgb\n",
        "from sklearn.naive_bayes import GaussianNB\n",
        "from sklearn.tree import DecisionTreeClassifier\n",
        "from sklearn.linear_model import SGDClassifier\n",
        "from sklearn.preprocessing import StandardScaler\n",
        "from sklearn.metrics import accuracy_score, f1_score, confusion_matrix, classification_report, roc_auc_score,roc_curve,auc\n",
        "from yellowbrick.classifier import ClassificationReport\n",
        "from matplotlib import pyplot\n",
        "import seaborn as sns\n",
        "from sklearn import preprocessing"
      ]
    },
    {
      "cell_type": "code",
      "execution_count": null,
      "id": "d50e8a21",
      "metadata": {
        "execution": {
          "iopub.execute_input": "2022-01-17T15:16:26.930689Z",
          "iopub.status.busy": "2022-01-17T15:16:26.930019Z",
          "iopub.status.idle": "2022-01-17T15:16:26.932926Z",
          "shell.execute_reply": "2022-01-17T15:16:26.932429Z",
          "shell.execute_reply.started": "2022-01-17T15:14:56.637634Z"
        },
        "id": "d50e8a21",
        "papermill": {
          "duration": 0.115524,
          "end_time": "2022-01-17T15:16:26.933063",
          "exception": false,
          "start_time": "2022-01-17T15:16:26.817539",
          "status": "completed"
        },
        "tags": []
      },
      "outputs": [],
      "source": [
        "x = df_upsampled[['age', 'length_of_service', 'city_name', 'department_name', 'job_title', 'store_name', 'gender_short',\n",
        "       'STATUS_YEAR', 'BUSINESS_UNIT']]\n",
        "y = df_upsampled[['STATUS']]"
      ]
    },
    {
      "cell_type": "code",
      "source": [
        "X_train, X_test, y_train, y_test = train_test_split(x, y, test_size=0.2)\n",
        "#scaling\n",
        "sc = StandardScaler()\n",
        "X_train = sc.fit_transform(X_train)\n",
        "X_test = sc.transform(X_test)"
      ],
      "metadata": {
        "id": "yE7itEv_lkHu"
      },
      "id": "yE7itEv_lkHu",
      "execution_count": null,
      "outputs": []
    },
    {
      "cell_type": "code",
      "source": [
        "def plot_roc_curve(fpr, tpr):  \n",
        "    plt.plot(fpr, tpr, color='orange', label='ROC')\n",
        "    plt.plot([0, 1], [0, 1], color='darkblue', linestyle='--')\n",
        "    plt.xlabel('False Positive Rate')\n",
        "    plt.ylabel('True Positive Rate')\n",
        "    plt.title('Receiver Operating Characteristic (ROC) Curve')\n",
        "    plt.legend()\n",
        "    plt.show()"
      ],
      "metadata": {
        "id": "uNe6VFg2mds1"
      },
      "id": "uNe6VFg2mds1",
      "execution_count": null,
      "outputs": []
    },
    {
      "cell_type": "code",
      "source": [
        "#Decision Tree\n",
        "def DT(X_train,y_train,X_test,y_test):\n",
        "  dt=DecisionTreeClassifier()\n",
        "  dt.fit(X_train,y_train)\n",
        "  y_pred = dt.predict(X_train)\n",
        "  pred=dt.predict_proba(X_test)   \n",
        "  print(\"DecisionTreeClassifier:Confusion Matrix: \", confusion_matrix(y_train, y_pred))\n",
        "  print (\"DecisionTreeClassifier:Accuracy : \", accuracy_score(y_train,y_pred)*100)\n",
        "  print(\"DecisionTreeClassifier:Test set\")\n",
        "  y_pred = dt.predict(X_test)\n",
        "  print(\"DecisionTreeClassifier:Confusion Matrix: \", confusion_matrix(y_test, y_pred))\n",
        "  print (\"DecisionTreeClassifier:Accuracy : \", accuracy_score(y_test,y_pred)*100)\n",
        "\n",
        "  cnf_matrix =confusion_matrix(y_test, y_pred)\n",
        "  FP = cnf_matrix.sum(axis=0) - np.diag(cnf_matrix)  \n",
        "  FN = cnf_matrix.sum(axis=1) - np.diag(cnf_matrix)\n",
        "  TP = np.diag(cnf_matrix)\n",
        "  TN = cnf_matrix.sum() - (FP + FN + TP)\n",
        "  specificity = TP/(TP+FN)\n",
        "  sensitive = TN/(TN+FP)\n",
        "  print(\"DecisionTreeClassifier:Specificity:\" + str(specificity[0]))\n",
        "  print(\"DecisionTreeClassifier:Sensitivity:\" + str(sensitive[0]))\n",
        "\n",
        "  #confusion Matrix\n",
        "  matrix =confusion_matrix(y_test, y_pred)\n",
        "  class_names=[0,1] \n",
        "  fig, ax = plt.subplots()\n",
        "  tick_marks = np.arange(len(class_names))\n",
        "  plt.xticks(tick_marks, class_names)\n",
        "  plt.yticks(tick_marks, class_names)\n",
        "  sns.heatmap(pd.DataFrame(matrix), annot=True, cmap=\"YlGnBu\" ,fmt='g')\n",
        "  ax.xaxis.set_label_position(\"top\")\n",
        "  plt.tight_layout()\n",
        "  plt.title('Confusion matrix', y=1.1)\n",
        "  plt.ylabel('Actual label')\n",
        "  plt.xlabel('Predicted label')\n",
        "  plt.show()\n",
        "  #ROC_AUC curve\n",
        "  probs = dt.predict_proba(X_test) \n",
        "  probs = probs[:, 1]  \n",
        "  auc = roc_auc_score(y_test, probs)  \n",
        "  print('AUC: %.2f' % auc)\n",
        "  le = preprocessing.LabelEncoder()\n",
        "  y_test1=le.fit_transform(y_test)\n",
        "  fpr, tpr, thresholds = roc_curve(y_test1, probs)\n",
        "  plot_roc_curve(fpr, tpr)\n",
        "  #Classification Report\n",
        "  target_names = ['Yes', 'No']\n",
        "  prediction=dt.predict(X_test)\n",
        "  print(classification_report(y_test, prediction, target_names=target_names))\n",
        "  classes = [\"Yes\", \"No\"]\n",
        "  visualizer = ClassificationReport(dt, classes=classes, support=True)\n",
        "  visualizer.fit(X_train, y_train)  \n",
        "  visualizer.score(X_test, y_test)  \n",
        "  g = visualizer.poof()\n",
        "\n",
        "DT(X_train,y_train,X_test,y_test)"
      ],
      "metadata": {
        "colab": {
          "base_uri": "https://localhost:8080/",
          "height": 1000
        },
        "id": "mRUawz45l0Wk",
        "outputId": "dfbcf14c-c215-40da-dbc1-94cbceb933c0"
      },
      "id": "mRUawz45l0Wk",
      "execution_count": null,
      "outputs": [
        {
          "output_type": "stream",
          "name": "stdout",
          "text": [
            "DecisionTreeClassifier:Confusion Matrix:  [[37880   625]\n",
            " [    0 38563]]\n",
            "DecisionTreeClassifier:Accuracy :  99.18902787149011\n",
            "DecisionTreeClassifier:Test set\n",
            "DecisionTreeClassifier:Confusion Matrix:  [[9477  186]\n",
            " [   0 9605]]\n",
            "DecisionTreeClassifier:Accuracy :  99.0346688810463\n"
          ]
        },
        {
          "output_type": "display_data",
          "data": {
            "text/plain": [
              "<Figure size 576x396 with 2 Axes>"
            ],
            "image/png": "[encoded data removed]"
          },
          "metadata": {}
        },
        {
          "output_type": "stream",
          "name": "stdout",
          "text": [
            "AUC: 1.00\n"
          ]
        },
        {
          "output_type": "stream",
          "name": "stderr",
          "text": [
            "/usr/local/lib/python3.7/dist-packages/sklearn/preprocessing/_label.py:115: DataConversionWarning: A column-vector y was passed when a 1d array was expected. Please change the shape of y to (n_samples, ), for example using ravel().\n",
            "  y = column_or_1d(y, warn=True)\n"
          ]
        },
        {
          "output_type": "display_data",
          "data": {
            "text/plain": [
              "<Figure size 576x396 with 1 Axes>"
            ],
            "image/png": "[encoded data removed]"
          },
          "metadata": {}
        },
        {
          "output_type": "stream",
          "name": "stdout",
          "text": [
            "              precision    recall  f1-score   support\n",
            "\n",
            "         Yes       1.00      0.98      0.99      9663\n",
            "          No       0.98      1.00      0.99      9605\n",
            "\n",
            "    accuracy                           0.99     19268\n",
            "   macro avg       0.99      0.99      0.99     19268\n",
            "weighted avg       0.99      0.99      0.99     19268\n",
            "\n"
          ]
        },
        {
          "output_type": "display_data",
          "data": {
            "text/plain": [
              "<Figure size 576x396 with 2 Axes>"
            ],
            "image/png": "[encoded data removed]"
          },
          "metadata": {}
        }
      ]
    },
    {
      "cell_type": "code",
      "source": [
        "#Naive Bayes\n",
        "def GB(X_train,y_train,X_test,y_test):\n",
        "  gb=GaussianNB()\n",
        "  gb.fit(X_train,y_train)\n",
        "  y_pred = gb.predict(X_train)\n",
        "  pred=gb.predict_proba(X_test)   \n",
        "  print(\"GaussianNB:Confusion Matrix: \", confusion_matrix(y_train, y_pred))\n",
        "  print (\"GaussianNB:Accuracy : \", accuracy_score(y_train,y_pred)*100)\n",
        "  print(\"GaussianNB:Test set\")\n",
        "  y_pred = gb.predict(X_test)\n",
        "  print(\"GaussianNB:Confusion Matrix: \", confusion_matrix(y_test, y_pred))\n",
        "  print (\"GaussianNB:Accuracy : \", accuracy_score(y_test,y_pred)*100)\n",
        "\n",
        "  cnf_matrix =confusion_matrix(y_test, y_pred)\n",
        "  FP = cnf_matrix.sum(axis=0) - np.diag(cnf_matrix)  \n",
        "  FN = cnf_matrix.sum(axis=1) - np.diag(cnf_matrix)\n",
        "  TP = np.diag(cnf_matrix)\n",
        "  TN = cnf_matrix.sum() - (FP + FN + TP)\n",
        "  specificity = TP/(TP+FN)\n",
        "  sensitive = TN/(TN+FP)\n",
        "  print(\"GaussianNB:Specificity:\" + str(specificity[0]))\n",
        "  print(\"GaussianNB:Sensitivity:\" + str(sensitive[0]))\n",
        "\n",
        "  #confusion Matrix\n",
        "  matrix =confusion_matrix(y_test, y_pred)\n",
        "  class_names=[0,1] \n",
        "  fig, ax = plt.subplots()\n",
        "  tick_marks = np.arange(len(class_names))\n",
        "  plt.xticks(tick_marks, class_names)\n",
        "  plt.yticks(tick_marks, class_names)\n",
        "  sns.heatmap(pd.DataFrame(matrix), annot=True, cmap=\"YlGnBu\" ,fmt='g')\n",
        "  ax.xaxis.set_label_position(\"top\")\n",
        "  plt.tight_layout()\n",
        "  plt.title('Confusion matrix', y=1.1)\n",
        "  plt.ylabel('Actual label')\n",
        "  plt.xlabel('Predicted label')\n",
        "  plt.show()\n",
        "  #ROC_AUC curve\n",
        "  probs = gb.predict_proba(X_test) \n",
        "  probs = probs[:, 1]  \n",
        "  auc = roc_auc_score(y_test, probs)  \n",
        "  print('AUC: %.2f' % auc)\n",
        "  le = preprocessing.LabelEncoder()\n",
        "  y_test1=le.fit_transform(y_test)\n",
        "  fpr, tpr, thresholds = roc_curve(y_test1, probs)\n",
        "  plot_roc_curve(fpr, tpr)\n",
        "  #Classification Report\n",
        "  target_names = ['Yes', 'No']\n",
        "  prediction=gb.predict(X_test)\n",
        "  print(classification_report(y_test, prediction, target_names=target_names))\n",
        "  classes = [\"Yes\", \"No\"]\n",
        "  visualizer = ClassificationReport(gb, classes=classes, support=True)\n",
        "  visualizer.fit(X_train, y_train)  \n",
        "  visualizer.score(X_test, y_test)  \n",
        "  g = visualizer.poof()\n",
        "\n",
        "GB(X_train,y_train,X_test,y_test)"
      ],
      "metadata": {
        "colab": {
          "base_uri": "https://localhost:8080/",
          "height": 1000
        },
        "id": "9UuLKsHamnNl",
        "outputId": "2eb7c667-5a48-495a-9651-7df2d7f727be"
      },
      "id": "9UuLKsHamnNl",
      "execution_count": null,
      "outputs": [
        {
          "output_type": "stream",
          "name": "stderr",
          "text": [
            "/usr/local/lib/python3.7/dist-packages/sklearn/utils/validation.py:993: DataConversionWarning: A column-vector y was passed when a 1d array was expected. Please change the shape of y to (n_samples, ), for example using ravel().\n",
            "  y = column_or_1d(y, warn=True)\n"
          ]
        },
        {
          "output_type": "stream",
          "name": "stdout",
          "text": [
            "GaussianNB:Confusion Matrix:  [[34941  3564]\n",
            " [22351 16212]]\n",
            "GaussianNB:Accuracy :  66.37385166346603\n",
            "GaussianNB:Test set\n",
            "GaussianNB:Confusion Matrix:  [[8751  912]\n",
            " [5669 3936]]\n",
            "GaussianNB:Accuracy :  65.84492422669712\n"
          ]
        },
        {
          "output_type": "display_data",
          "data": {
            "text/plain": [
              "<Figure size 576x396 with 2 Axes>"
            ],
            "image/png": "[encoded data removed]"
          },
          "metadata": {}
        },
        {
          "output_type": "stream",
          "name": "stdout",
          "text": [
            "AUC: 0.72\n"
          ]
        },
        {
          "output_type": "stream",
          "name": "stderr",
          "text": [
            "/usr/local/lib/python3.7/dist-packages/sklearn/preprocessing/_label.py:115: DataConversionWarning: A column-vector y was passed when a 1d array was expected. Please change the shape of y to (n_samples, ), for example using ravel().\n",
            "  y = column_or_1d(y, warn=True)\n"
          ]
        },
        {
          "output_type": "display_data",
          "data": {
            "text/plain": [
              "<Figure size 576x396 with 1 Axes>"
            ],
            "image/png": "[encoded data removed]"
          },
          "metadata": {}
        },
        {
          "output_type": "stream",
          "name": "stdout",
          "text": [
            "              precision    recall  f1-score   support\n",
            "\n",
            "         Yes       0.61      0.91      0.73      9663\n",
            "          No       0.81      0.41      0.54      9605\n",
            "\n",
            "    accuracy                           0.66     19268\n",
            "   macro avg       0.71      0.66      0.64     19268\n",
            "weighted avg       0.71      0.66      0.64     19268\n",
            "\n"
          ]
        },
        {
          "output_type": "display_data",
          "data": {
            "text/plain": [
              "<Figure size 576x396 with 2 Axes>"
            ],
            "image/png": "[encoded data removed]"
          },
          "metadata": {}
        }
      ]
    }
  ],
  "metadata": {
    "kernelspec": {
      "display_name": "Python 3",
      "language": "python",
      "name": "python3"
    },
    "language_info": {
      "codemirror_mode": {
        "name": "ipython",
        "version": 3
      },
      "file_extension": ".py",
      "mimetype": "text/x-python",
      "name": "python",
      "nbconvert_exporter": "python",
      "pygments_lexer": "ipython3",
      "version": "3.7.12"
    },
    "papermill": {
      "default_parameters": {},
      "duration": 81.476782,
      "end_time": "2022-01-17T15:17:09.169609",
      "environment_variables": {},
      "exception": null,
      "input_path": "__notebook__.ipynb",
      "output_path": "__notebook__.ipynb",
      "parameters": {},
      "start_time": "2022-01-17T15:15:47.692827",
      "version": "2.3.3"
    },
    "colab": {
      "provenance": [],
      "collapsed_sections": []
    }
  },
  "nbformat": 4,
  "nbformat_minor": 5
}